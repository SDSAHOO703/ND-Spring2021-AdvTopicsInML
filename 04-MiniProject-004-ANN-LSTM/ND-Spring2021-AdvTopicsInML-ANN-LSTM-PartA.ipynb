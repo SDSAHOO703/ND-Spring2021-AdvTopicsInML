{
 "cells": [
  {
   "cell_type": "markdown",
   "id": "departmental-michael",
   "metadata": {
    "id": "departmental-michael"
   },
   "source": [
    "# Mini-Project #4 (Part A)\n",
    "\n",
    "Student Name: **Subhadyuti Sahoo**\n",
    "<br>\n",
    "Course: **Adv Topics in Machine Learning**"
   ]
  },
  {
   "cell_type": "markdown",
   "id": "urban-paste",
   "metadata": {
    "id": "urban-paste"
   },
   "source": [
    "### Importing Necessary Libraries, Modules and Classes"
   ]
  },
  {
   "cell_type": "code",
   "execution_count": 1,
   "id": "brazilian-thomson",
   "metadata": {
    "id": "brazilian-thomson"
   },
   "outputs": [
    {
     "name": "stdout",
     "output_type": "stream",
     "text": [
      "INFO:tensorflow:Enabling eager execution\n",
      "INFO:tensorflow:Enabling v2 tensorshape\n",
      "INFO:tensorflow:Enabling resource variables\n",
      "INFO:tensorflow:Enabling tensor equality\n",
      "INFO:tensorflow:Enabling control flow v2\n"
     ]
    }
   ],
   "source": [
    "import os\n",
    "import time\n",
    "import datetime\n",
    "import sys\n",
    "import numpy as np\n",
    "import scipy\n",
    "import matplotlib.pyplot as plt\n",
    "from matplotlib import rcParams\n",
    "import seaborn as sns\n",
    "import pandas as pd\n",
    "import statistics\n",
    "import sklearn\n",
    "from sklearn.preprocessing import MinMaxScaler\n",
    "from sklearn.metrics import mean_squared_error\n",
    "import tensorflow as tf\n",
    "from tensorflow import keras\n",
    "from tensorflow.keras import Sequential \n",
    "from tensorflow.keras import layers\n",
    "from tensorflow.keras.layers import LeakyReLU, PReLU, Dense, LSTM \n",
    "from tensorflow.keras.layers.experimental import preprocessing\n",
    "from tensorflow.keras import losses\n",
    "import warnings\n",
    "from numpy.random import seed\n",
    "tf.random.set_seed(1234)\n",
    "warnings.simplefilter(\"ignore\")\n",
    "warnings.filterwarnings(\"ignore\")\n",
    "np.set_printoptions(formatter={'float': lambda x: \"{0:0.3f}\".format(x)})"
   ]
  },
  {
   "cell_type": "markdown",
   "id": "emotional-genesis",
   "metadata": {
    "id": "emotional-genesis"
   },
   "source": [
    "### Importing the Dataset"
   ]
  },
  {
   "cell_type": "code",
   "execution_count": 2,
   "id": "novel-mother",
   "metadata": {
    "colab": {
     "base_uri": "https://localhost:8080/",
     "height": 404
    },
    "id": "novel-mother",
    "outputId": "fdf5dca0-c6ab-4d80-fbd9-8003bdc1c250"
   },
   "outputs": [
    {
     "data": {
      "text/html": [
       "<div>\n",
       "<style scoped>\n",
       "    .dataframe tbody tr th:only-of-type {\n",
       "        vertical-align: middle;\n",
       "    }\n",
       "\n",
       "    .dataframe tbody tr th {\n",
       "        vertical-align: top;\n",
       "    }\n",
       "\n",
       "    .dataframe thead th {\n",
       "        text-align: right;\n",
       "    }\n",
       "</style>\n",
       "<table border=\"1\" class=\"dataframe\">\n",
       "  <thead>\n",
       "    <tr style=\"text-align: right;\">\n",
       "      <th></th>\n",
       "      <th>Date</th>\n",
       "      <th>Open</th>\n",
       "      <th>High</th>\n",
       "      <th>Low</th>\n",
       "      <th>Close</th>\n",
       "      <th>Adj Close</th>\n",
       "      <th>Volume</th>\n",
       "    </tr>\n",
       "  </thead>\n",
       "  <tbody>\n",
       "    <tr>\n",
       "      <th>0</th>\n",
       "      <td>1999-01-22</td>\n",
       "      <td>1.750000</td>\n",
       "      <td>1.953125</td>\n",
       "      <td>1.552083</td>\n",
       "      <td>1.640625</td>\n",
       "      <td>1.508412</td>\n",
       "      <td>67867200</td>\n",
       "    </tr>\n",
       "    <tr>\n",
       "      <th>1</th>\n",
       "      <td>1999-01-25</td>\n",
       "      <td>1.770833</td>\n",
       "      <td>1.833333</td>\n",
       "      <td>1.640625</td>\n",
       "      <td>1.812500</td>\n",
       "      <td>1.666436</td>\n",
       "      <td>12762000</td>\n",
       "    </tr>\n",
       "    <tr>\n",
       "      <th>2</th>\n",
       "      <td>1999-01-26</td>\n",
       "      <td>1.833333</td>\n",
       "      <td>1.869792</td>\n",
       "      <td>1.645833</td>\n",
       "      <td>1.671875</td>\n",
       "      <td>1.537143</td>\n",
       "      <td>8580000</td>\n",
       "    </tr>\n",
       "    <tr>\n",
       "      <th>3</th>\n",
       "      <td>1999-01-27</td>\n",
       "      <td>1.677083</td>\n",
       "      <td>1.718750</td>\n",
       "      <td>1.583333</td>\n",
       "      <td>1.666667</td>\n",
       "      <td>1.532354</td>\n",
       "      <td>6109200</td>\n",
       "    </tr>\n",
       "    <tr>\n",
       "      <th>4</th>\n",
       "      <td>1999-01-28</td>\n",
       "      <td>1.666667</td>\n",
       "      <td>1.677083</td>\n",
       "      <td>1.651042</td>\n",
       "      <td>1.661458</td>\n",
       "      <td>1.527566</td>\n",
       "      <td>5688000</td>\n",
       "    </tr>\n",
       "    <tr>\n",
       "      <th>...</th>\n",
       "      <td>...</td>\n",
       "      <td>...</td>\n",
       "      <td>...</td>\n",
       "      <td>...</td>\n",
       "      <td>...</td>\n",
       "      <td>...</td>\n",
       "      <td>...</td>\n",
       "    </tr>\n",
       "    <tr>\n",
       "      <th>5561</th>\n",
       "      <td>2021-03-01</td>\n",
       "      <td>555.000000</td>\n",
       "      <td>557.000000</td>\n",
       "      <td>542.130005</td>\n",
       "      <td>553.669983</td>\n",
       "      <td>553.669983</td>\n",
       "      <td>8802500</td>\n",
       "    </tr>\n",
       "    <tr>\n",
       "      <th>5562</th>\n",
       "      <td>2021-03-02</td>\n",
       "      <td>556.000000</td>\n",
       "      <td>556.820007</td>\n",
       "      <td>535.840027</td>\n",
       "      <td>536.250000</td>\n",
       "      <td>536.250000</td>\n",
       "      <td>6585500</td>\n",
       "    </tr>\n",
       "    <tr>\n",
       "      <th>5563</th>\n",
       "      <td>2021-03-03</td>\n",
       "      <td>537.049988</td>\n",
       "      <td>538.059998</td>\n",
       "      <td>511.950012</td>\n",
       "      <td>512.190002</td>\n",
       "      <td>512.190002</td>\n",
       "      <td>9408000</td>\n",
       "    </tr>\n",
       "    <tr>\n",
       "      <th>5564</th>\n",
       "      <td>2021-03-04</td>\n",
       "      <td>512.030029</td>\n",
       "      <td>519.000000</td>\n",
       "      <td>483.350006</td>\n",
       "      <td>494.809998</td>\n",
       "      <td>494.809998</td>\n",
       "      <td>14292400</td>\n",
       "    </tr>\n",
       "    <tr>\n",
       "      <th>5565</th>\n",
       "      <td>2021-03-05</td>\n",
       "      <td>502.000000</td>\n",
       "      <td>502.000000</td>\n",
       "      <td>467.170013</td>\n",
       "      <td>498.459991</td>\n",
       "      <td>498.459991</td>\n",
       "      <td>13547800</td>\n",
       "    </tr>\n",
       "  </tbody>\n",
       "</table>\n",
       "<p>5566 rows × 7 columns</p>\n",
       "</div>"
      ],
      "text/plain": [
       "            Date        Open        High         Low       Close   Adj Close  \\\n",
       "0     1999-01-22    1.750000    1.953125    1.552083    1.640625    1.508412   \n",
       "1     1999-01-25    1.770833    1.833333    1.640625    1.812500    1.666436   \n",
       "2     1999-01-26    1.833333    1.869792    1.645833    1.671875    1.537143   \n",
       "3     1999-01-27    1.677083    1.718750    1.583333    1.666667    1.532354   \n",
       "4     1999-01-28    1.666667    1.677083    1.651042    1.661458    1.527566   \n",
       "...          ...         ...         ...         ...         ...         ...   \n",
       "5561  2021-03-01  555.000000  557.000000  542.130005  553.669983  553.669983   \n",
       "5562  2021-03-02  556.000000  556.820007  535.840027  536.250000  536.250000   \n",
       "5563  2021-03-03  537.049988  538.059998  511.950012  512.190002  512.190002   \n",
       "5564  2021-03-04  512.030029  519.000000  483.350006  494.809998  494.809998   \n",
       "5565  2021-03-05  502.000000  502.000000  467.170013  498.459991  498.459991   \n",
       "\n",
       "        Volume  \n",
       "0     67867200  \n",
       "1     12762000  \n",
       "2      8580000  \n",
       "3      6109200  \n",
       "4      5688000  \n",
       "...        ...  \n",
       "5561   8802500  \n",
       "5562   6585500  \n",
       "5563   9408000  \n",
       "5564  14292400  \n",
       "5565  13547800  \n",
       "\n",
       "[5566 rows x 7 columns]"
      ]
     },
     "metadata": {},
     "output_type": "display_data"
    }
   ],
   "source": [
    "# Forming the pandas dataframe\n",
    "# entireDataSet = pd.read_csv('/content/drive/My Drive/AdvTopicsInML/NVDA.csv')   # for Google Colab\n",
    "entireDataSet = pd.read_csv('NVDA.csv')   # for Jupyter Notebook\n",
    "\n",
    "# Displaying the pandas dataFrame\n",
    "display(entireDataSet)  "
   ]
  },
  {
   "cell_type": "markdown",
   "id": "ELG5zB7Q2Pz8",
   "metadata": {
    "id": "ELG5zB7Q2Pz8"
   },
   "source": [
    "<a id='Description'></a>\n",
    "<div class=\" alert alert-warning\">\n",
    "    <b>Description.</b>\n",
    " \n",
    "Same as Mini-project #3, this project will use the historic adjusted closing price data of NVDA as the training/test data and build an artificial neural network (ANN) to predict the adjusted closing price in the future. We will only use the adjusted closing price. We will $60:20:20$ split the data for training, validation and test, reserving the most recent $20\\%$ data for test, as though we had traveled back in time to September $30, 2016$. We will try to see if different activation function or LSTM can lead to better prediction with higher\n",
    "accuracy.\n",
    "    \n",
    "</div>"
   ]
  },
  {
   "cell_type": "markdown",
   "id": "eXYzKp6TzleU",
   "metadata": {
    "id": "eXYzKp6TzleU"
   },
   "source": [
    "### Extracting The Working Dataset"
   ]
  },
  {
   "cell_type": "code",
   "execution_count": 3,
   "id": "46MjPZszzjgQ",
   "metadata": {
    "id": "46MjPZszzjgQ"
   },
   "outputs": [],
   "source": [
    "dSet = pd.DataFrame(entireDataSet['Adj Close'], columns=['Adj Close'])   # Working with only the Adjusted Closing Price"
   ]
  },
  {
   "cell_type": "markdown",
   "id": "tutorial-cooperation",
   "metadata": {
    "id": "tutorial-cooperation"
   },
   "source": [
    "### Checking for Missing Values (if any)"
   ]
  },
  {
   "cell_type": "code",
   "execution_count": 4,
   "id": "proprietary-nerve",
   "metadata": {
    "colab": {
     "base_uri": "https://localhost:8080/"
    },
    "id": "proprietary-nerve",
    "outputId": "b805026e-9d59-456c-b46e-5615410515c4"
   },
   "outputs": [
    {
     "name": "stdout",
     "output_type": "stream",
     "text": [
      "--- Checking for Missing Values ---\n",
      "Q. Are there any missing values in the dataset?\n",
      "A. No\n",
      "-----------------------------------\n",
      "\n",
      "\n"
     ]
    }
   ],
   "source": [
    "# Checking if there are missing values in the workign dataset\n",
    "result = (dSet.isna().values.any()) or (dSet.isnull().values.any())\n",
    "if (result == True):\n",
    "    n_missing_values = dSet.isna().sum().sum() + dSet.isnull().sum().sum()\n",
    "\n",
    "# Displaying if there are any missing values in dataFrame\n",
    "print('--- Checking for Missing Values ---')\n",
    "print('Q. Are there any missing values in the dataset?')   \n",
    "if (result == True):\n",
    "    print('A. Yes')\n",
    "    print('Q. How many?')\n",
    "    print('A. ', n_missing_values)\n",
    "else:\n",
    "    print('A. No') \n",
    "print('-----------------------------------')\n",
    "print('\\n')"
   ]
  },
  {
   "cell_type": "markdown",
   "id": "tIdQ559W3qtu",
   "metadata": {
    "id": "tIdQ559W3qtu"
   },
   "source": [
    "### Splitting the Working Dataset"
   ]
  },
  {
   "cell_type": "code",
   "execution_count": 5,
   "id": "vTohyOwUxqe_",
   "metadata": {
    "id": "vTohyOwUxqe_"
   },
   "outputs": [],
   "source": [
    "# Splitting the data after September 30, 2016\n",
    "dates = entireDataSet['Date'].to_numpy()\n",
    "trainval_indices = np.where(dates < '2016-10-01')\n",
    "trainval_index_start = trainval_indices[0][0]\n",
    "trainval_index_end = trainval_indices[0][-1]\n",
    "\n",
    "# Converting the working dataset to a numpy array \n",
    "dSet = dSet.values\n",
    "dSet = dSet.astype('float32')  # Converting to Tensor Form\n",
    "\n",
    "# Splitting the working dataset into train, val and test datasets\n",
    "n = (0.6 * len(dSet)) / trainval_index_end\n",
    "trainDataSet = dSet[:int(n*trainval_index_end)]\n",
    "valDataSet = dSet[int(n*trainval_index_end):trainval_index_end+1]\n",
    "testDataSet = dSet[trainval_index_end+1:]\n",
    "tempTestDates = entireDataSet['Date'][trainval_index_end+1:]"
   ]
  },
  {
   "cell_type": "markdown",
   "id": "gorgeous-floating",
   "metadata": {},
   "source": [
    "<a id='Student Task'></a>\n",
    "<div class=\" alert alert-warning\">\n",
    "    <b>Student Task.</b>\n",
    " \n",
    "Use the best model you have from Mini-project #3, and play with different activation functions in different layers. You may use different activations in different layers. \n",
    "\n",
    "</div>"
   ]
  },
  {
   "cell_type": "markdown",
   "id": "detailed-charge",
   "metadata": {},
   "source": [
    "<a id='QuestionA'></a>\n",
    "<div class=\" alert alert-warning\">\n",
    "    <b>Question.</b>\n",
    " \n",
    "Provide your model design description.\n",
    "\n",
    "</div>"
   ]
  },
  {
   "cell_type": "markdown",
   "id": "alpine-bulgaria",
   "metadata": {},
   "source": [
    "<a id='AnswerQA'></a>\n",
    "<div class=\" alert alert-info\">\n",
    "    <b>Answer.</b>\n",
    "\n",
    "$\\textbf{Model Design Description}$: \n",
    "\n",
    "- The activation functions for the hidden layers have been carefully chosen to be either of the Linear Unit family or close to Linear Unit family ($\\texttt{softplus}$), since this is a regression problem\n",
    "    \n",
    "- $\\texttt{No}$ activation function has been chosen for the output layer as activation functions in the output layers for regression problems can cause issues by abruptly shutting down the gate and thus, can produce zero as the output all the time (since the model is learning nothing at all)\n",
    "    \n",
    "- The model with the lowest MSE score for the validation dataset has been ultimately chosen to be the best model\n",
    "    \n",
    "</div>"
   ]
  },
  {
   "cell_type": "markdown",
   "id": "coastal-lesson",
   "metadata": {},
   "source": [
    "### User-Defined Function to Form Training, Validation and Test Datasets Depending Upon Prior Days"
   ]
  },
  {
   "cell_type": "code",
   "execution_count": 6,
   "id": "instructional-guide",
   "metadata": {},
   "outputs": [],
   "source": [
    "def get_refurbished_datasets(dataset, prior_days):\n",
    "    \"\"\"\n",
    "    Returns the reconfigured datasets for 'n' prior days\n",
    "  \n",
    "    Args: \n",
    "      dataset (vector, shape = [n, 1]): the column of interest from the entire, bigger dataset\n",
    "      prior_days (int): the number of prior days for which the column of interest needs to be reconfigured\n",
    "    \"\"\"\n",
    "    \n",
    "    # Forming empty lists to store data\n",
    "    X_, y_ = [], []\n",
    "    \n",
    "    # Forming the reconfigured datasets for 'n' prior days\n",
    "    for i in range(len(dataset)-prior_days):\n",
    "        a = dataset[i:(i + prior_days), 0]\n",
    "        X_.append(a)\n",
    "        y_.append(dataset[i + prior_days, 0])\n",
    "        \n",
    "    # Returning the reconfigured datasets\n",
    "    return np.array(X_), np.array(y_)"
   ]
  },
  {
   "cell_type": "markdown",
   "id": "signal-audio",
   "metadata": {},
   "source": [
    "### Forming the Working Datasets for Training, Validation and Test for 10 Prior Days"
   ]
  },
  {
   "cell_type": "code",
   "execution_count": 7,
   "id": "english-bunny",
   "metadata": {},
   "outputs": [
    {
     "name": "stdout",
     "output_type": "stream",
     "text": [
      "--- Shapes of Each Dataset (10 Prior Days) ---\n",
      "Training Features Dataset Shape: (3329, 10)\n",
      "Training Labels Dataset Shape: (3329,)\n",
      "Validation Features Dataset Shape: (1104, 10)\n",
      "Validation Labels Dataset Shape: (1104,)\n",
      "Test Features Dataset Shape: (1103, 10)\n",
      "Test Labels Dataset Shape: (1103,)\n",
      "----------------------------------------------\n"
     ]
    }
   ],
   "source": [
    "# Mentioning the prior days\n",
    "prior_days = 10\n",
    "\n",
    "# Forming the final training dataset\n",
    "X_train, y_train = get_refurbished_datasets(dataset=trainDataSet, prior_days=prior_days)\n",
    "\n",
    "# Forming the final validation dataset\n",
    "X_val, y_val = get_refurbished_datasets(dataset=valDataSet, prior_days=prior_days)\n",
    "\n",
    "# Forming the final test dataset\n",
    "X_test, y_test = get_refurbished_datasets(dataset=testDataSet, prior_days=prior_days)\n",
    "\n",
    "# Printing out the shapes of each dataset\n",
    "print('--- Shapes of Each Dataset (' + str(prior_days) + ' Prior Days) ---')\n",
    "print(f'Training Features Dataset Shape: {X_train.shape}')\n",
    "print(f'Training Labels Dataset Shape: {y_train.shape}')\n",
    "print(f'Validation Features Dataset Shape: {X_val.shape}')\n",
    "print(f'Validation Labels Dataset Shape: {y_val.shape}')\n",
    "print(f'Test Features Dataset Shape: {X_test.shape}')\n",
    "print(f'Test Labels Dataset Shape: {y_test.shape}')\n",
    "print('----------------------------------------------')"
   ]
  },
  {
   "cell_type": "markdown",
   "id": "fU-RqNRo53k0",
   "metadata": {
    "id": "fU-RqNRo53k0"
   },
   "source": [
    "### Creating A User-Defined Function to Build Customized ANN Models"
   ]
  },
  {
   "cell_type": "code",
   "execution_count": 8,
   "id": "yNoY0tDB2TFQ",
   "metadata": {
    "id": "yNoY0tDB2TFQ"
   },
   "outputs": [],
   "source": [
    "def build_model(init_empty_model, trainFeatures, n_neurons, act_func):\n",
    "    \"\"\"\n",
    "    Returns the customized model \n",
    "  \n",
    "    Args:\n",
    "      init_empty_model (keras sequential model): the skeletion of the final model returned \n",
    "      trainFeatures (array, shape = [m, n]): the training dataset features\n",
    "      n_neurons (int): the number of neurons each of the hidden layers are going to contain\n",
    "      act_func: the activation function for the hidden layers\n",
    "    \"\"\"\n",
    "\n",
    "    # Calcuate the input dimensions to be used for building the model\n",
    "    inputDim = trainFeatures.shape[1]\n",
    "\n",
    "    # Putting the skeleton model into the variable which is going to get filled up soon\n",
    "    filled_model = init_empty_model\n",
    "\n",
    "    # Building the final model which is gonna be returned \n",
    "    filled_model.add(Dense(units = n_neurons,\n",
    "                             \n",
    "                           # Activation function for hidden layer\n",
    "                           activation = act_func,\n",
    "\n",
    "                           input_dim = inputDim\n",
    "                          )\n",
    "                    )\n",
    "  \n",
    "    # Adding the final output layer to the final model\n",
    "    filled_model.add(Dense(units=1))\n",
    "\n",
    "    # Returning the final model\n",
    "    return filled_model"
   ]
  },
  {
   "cell_type": "markdown",
   "id": "EgZm_ZVHRUY3",
   "metadata": {
    "id": "EgZm_ZVHRUY3"
   },
   "source": [
    "### Creating A User-Defined Function In Order To Compile and Train Different ANN Models "
   ]
  },
  {
   "cell_type": "code",
   "execution_count": 9,
   "id": "vU6ggNh19VO8",
   "metadata": {
    "id": "vU6ggNh19VO8"
   },
   "outputs": [],
   "source": [
    "def compile_and_fit(model, trainFeatures, trainLabels, valFeatures,\n",
    "                    valLabels, batchSize, n_epochs, verBose):\n",
    "    \"\"\"\n",
    "    Returns a compiled model\n",
    "  \n",
    "    Args:\n",
    "      model (keras sequential model): the filled model\n",
    "      trainFeatures (array, shape = [m,n]): the training dataset features\n",
    "      trainLabels (vector, shape = [m,1]): the training dataset labels\n",
    "      valFeatures (array, shape = [p, n]): the validation dataset features\n",
    "      valLabels (vector, shape = [p,1]): the validation dataset labels\n",
    "      batchSize (int): the max no. of batches to be used for compiling the model\n",
    "      n_epochs (int): the max no. iterations for simulating the model\n",
    "    \"\"\"\n",
    "\n",
    "    # Compiling the model\n",
    "    model.compile(# Objective (Loss) Function\n",
    "                  loss = 'mean_squared_error',  # meanSquaredError\n",
    "\n",
    "                  # Optimizer\n",
    "                  optimizer = 'adam'\n",
    "                 )\n",
    "  \n",
    "    # Training the model\n",
    "    history = model.fit(x = trainFeatures,\n",
    "                        y = trainLabels,\n",
    "                        batch_size = batchSize, \n",
    "                        epochs = n_epochs,\n",
    "                        validation_data = (valFeatures, valLabels),\n",
    "                        verbose = verBose)\n",
    "  \n",
    "    # Returning the compiled model\n",
    "    return history "
   ]
  },
  {
   "cell_type": "markdown",
   "id": "sound-paintball",
   "metadata": {},
   "source": [
    "### Creating A User-Defined Function for Estimating Mean Squared Errors"
   ]
  },
  {
   "cell_type": "code",
   "execution_count": 10,
   "id": "several-separation",
   "metadata": {},
   "outputs": [],
   "source": [
    "def get_mse(model, realFeatures, realLabels):\n",
    "    \"\"\"\n",
    "    Returns the mean squared error values\n",
    "    \n",
    "    Args:\n",
    "      model: the ANN model\n",
    "      realFeatures: the actual features of the three different datasets\n",
    "      realLabels: the actual labels of the three different datasets\n",
    "    \"\"\"\n",
    "    \n",
    "    # Predicting the values\n",
    "    predLabels = model.predict(realFeatures)\n",
    "    \n",
    "    # Calculating the mean squared error\n",
    "    meanSquaredError = mean_squared_error(realLabels, predLabels)\n",
    "    \n",
    "    # Returning mean squared error\n",
    "    return meanSquaredError"
   ]
  },
  {
   "cell_type": "markdown",
   "id": "QD_EFbFFQ_3G",
   "metadata": {
    "id": "QD_EFbFFQ_3G"
   },
   "source": [
    "### The Best ANN Model from Mini-Project #3 (1 Hidden Layer with 80 Hidden Neurons, ReLU Activation Function, 10 Prior Days)"
   ]
  },
  {
   "cell_type": "code",
   "execution_count": 11,
   "id": "pqCl7v2n4z1C",
   "metadata": {
    "colab": {
     "base_uri": "https://localhost:8080/",
     "height": 513
    },
    "id": "pqCl7v2n4z1C",
    "outputId": "c4dc41af-8740-4153-811c-dd38979135de"
   },
   "outputs": [
    {
     "name": "stdout",
     "output_type": "stream",
     "text": [
      "Model: \"sequential\"\n",
      "_________________________________________________________________\n",
      "Layer (type)                 Output Shape              Param #   \n",
      "=================================================================\n",
      "dense (Dense)                (None, 80)                880       \n",
      "_________________________________________________________________\n",
      "dense_1 (Dense)              (None, 1)                 81        \n",
      "=================================================================\n",
      "Total params: 961\n",
      "Trainable params: 961\n",
      "Non-trainable params: 0\n",
      "_________________________________________________________________\n"
     ]
    }
   ],
   "source": [
    "# ANN Model containing 1 Hidden Layer with 80 Hidden Neurons (ReLU, 10 Prior Days)\n",
    "model10801relu = Sequential() \n",
    "model10801relu = build_model(init_empty_model=model10801relu, trainFeatures=X_train, \n",
    "                             n_neurons=80, act_func='relu') \n",
    "model10801relu.summary()\n",
    "#tf.keras.utils.plot_model(model7201,\n",
    "#                          to_file = 'model7201.png',\n",
    "#                          show_shapes = True, \n",
    "#                          show_layer_names = True\n",
    "#                         )"
   ]
  },
  {
   "cell_type": "markdown",
   "id": "ylQVPH5U_3dG",
   "metadata": {
    "id": "ylQVPH5U_3dG"
   },
   "source": [
    "### Compiling and Training the ANN Model containing 1 Hidden Layer with 80 Hidden Neurons for 10 Prior Days (ReLU Activation Function)"
   ]
  },
  {
   "cell_type": "code",
   "execution_count": 12,
   "id": "r4PpOsQh92Ho",
   "metadata": {
    "colab": {
     "base_uri": "https://localhost:8080/"
    },
    "id": "r4PpOsQh92Ho",
    "outputId": "6ab5ae61-dd11-4098-8193-3b51c398c418"
   },
   "outputs": [],
   "source": [
    "history10801relu = compile_and_fit(model=model10801relu, trainFeatures=X_train, trainLabels=y_train, \n",
    "                                   valFeatures=X_val, valLabels=y_val, batchSize=32, n_epochs=20, verBose=0)"
   ]
  },
  {
   "cell_type": "markdown",
   "id": "expensive-painting",
   "metadata": {},
   "source": [
    "### Computing MSE for Training and Validation Datasets for ANN Model containing 1 Hidden Layer with 80 Hidden Neurons for 10 Prior Days (ReLU Activation Function)"
   ]
  },
  {
   "cell_type": "code",
   "execution_count": 13,
   "id": "consistent-morgan",
   "metadata": {},
   "outputs": [
    {
     "name": "stdout",
     "output_type": "stream",
     "text": [
      "--- MSE Values for the ANN Model with 1 Hidden Layer with 80 Hidden Neurons (10 Prior Days, ReLU Activation Function) ---\n",
      "Train Score: 0.40 MSE\n",
      "Val Score: 0.54 MSE\n",
      "-------------------------------------------------------------------------------------------------------------------------\n"
     ]
    }
   ],
   "source": [
    "# Calculating MSE for training dataset\n",
    "trainMSE10801relu = get_mse(model=model10801relu, realFeatures=X_train, realLabels=y_train)\n",
    "\n",
    "# Calculating MSE for validation dataset\n",
    "valMSE10801relu = get_mse(model=model10801relu, realFeatures=X_val, realLabels=y_val)\n",
    "\n",
    "# Print the values\n",
    "print('--- MSE Values for the ANN Model with 1 Hidden Layer with 80 Hidden Neurons (10 Prior Days, ReLU Activation Function) ---')\n",
    "print('Train Score: %.2f MSE' % (trainMSE10801relu))\n",
    "print('Val Score: %.2f MSE' % (valMSE10801relu))\n",
    "print('-------------------------------------------------------------------------------------------------------------------------')"
   ]
  },
  {
   "cell_type": "markdown",
   "id": "exact-expert",
   "metadata": {},
   "source": [
    "### ANN Model with 1 Hidden Layer with 80 Hidden Neurons (Different Activation Functions, 10 Prior Days)"
   ]
  },
  {
   "cell_type": "code",
   "execution_count": 14,
   "id": "surprised-muscle",
   "metadata": {},
   "outputs": [
    {
     "name": "stdout",
     "output_type": "stream",
     "text": [
      "Model: \"sequential_1\"\n",
      "_________________________________________________________________\n",
      "Layer (type)                 Output Shape              Param #   \n",
      "=================================================================\n",
      "dense_2 (Dense)              (None, 80)                880       \n",
      "_________________________________________________________________\n",
      "dense_3 (Dense)              (None, 1)                 81        \n",
      "=================================================================\n",
      "Total params: 961\n",
      "Trainable params: 961\n",
      "Non-trainable params: 0\n",
      "_________________________________________________________________\n",
      "Model: \"sequential_2\"\n",
      "_________________________________________________________________\n",
      "Layer (type)                 Output Shape              Param #   \n",
      "=================================================================\n",
      "dense_4 (Dense)              (None, 80)                960       \n",
      "_________________________________________________________________\n",
      "dense_5 (Dense)              (None, 1)                 81        \n",
      "=================================================================\n",
      "Total params: 1,041\n",
      "Trainable params: 1,041\n",
      "Non-trainable params: 0\n",
      "_________________________________________________________________\n",
      "Model: \"sequential_3\"\n",
      "_________________________________________________________________\n",
      "Layer (type)                 Output Shape              Param #   \n",
      "=================================================================\n",
      "dense_6 (Dense)              (None, 80)                880       \n",
      "_________________________________________________________________\n",
      "dense_7 (Dense)              (None, 1)                 81        \n",
      "=================================================================\n",
      "Total params: 961\n",
      "Trainable params: 961\n",
      "Non-trainable params: 0\n",
      "_________________________________________________________________\n",
      "Model: \"sequential_4\"\n",
      "_________________________________________________________________\n",
      "Layer (type)                 Output Shape              Param #   \n",
      "=================================================================\n",
      "dense_8 (Dense)              (None, 80)                880       \n",
      "_________________________________________________________________\n",
      "dense_9 (Dense)              (None, 1)                 81        \n",
      "=================================================================\n",
      "Total params: 961\n",
      "Trainable params: 961\n",
      "Non-trainable params: 0\n",
      "_________________________________________________________________\n",
      "Model: \"sequential_5\"\n",
      "_________________________________________________________________\n",
      "Layer (type)                 Output Shape              Param #   \n",
      "=================================================================\n",
      "dense_10 (Dense)             (None, 80)                880       \n",
      "_________________________________________________________________\n",
      "dense_11 (Dense)             (None, 1)                 81        \n",
      "=================================================================\n",
      "Total params: 961\n",
      "Trainable params: 961\n",
      "Non-trainable params: 0\n",
      "_________________________________________________________________\n",
      "Model: \"sequential_6\"\n",
      "_________________________________________________________________\n",
      "Layer (type)                 Output Shape              Param #   \n",
      "=================================================================\n",
      "dense_12 (Dense)             (None, 80)                880       \n",
      "_________________________________________________________________\n",
      "dense_13 (Dense)             (None, 1)                 81        \n",
      "=================================================================\n",
      "Total params: 961\n",
      "Trainable params: 961\n",
      "Non-trainable params: 0\n",
      "_________________________________________________________________\n"
     ]
    }
   ],
   "source": [
    "# ANN Model containing 1 Hidden Layer with 80 Hidden Neurons (LeakyReLU, 10 Prior Days)\n",
    "leaky_relu = LeakyReLU(alpha=0.01)\n",
    "model10801leakyrelu = Sequential() \n",
    "model10801leakyrelu = build_model(init_empty_model=model10801leakyrelu, trainFeatures=X_train, \n",
    "                                  n_neurons=80, act_func=leaky_relu) \n",
    "model10801leakyrelu.summary()\n",
    "\n",
    "# ANN Model containing 1 Hidden Layer with 80 Hidden Neurons (Parametric LeakyReLU, 10 Prior Days)\n",
    "para_leaky_relu = PReLU()\n",
    "model10801paraleakyrelu = Sequential() \n",
    "model10801paraleakyrelu = build_model(init_empty_model=model10801paraleakyrelu, trainFeatures=X_train, \n",
    "                                      n_neurons=80, act_func=para_leaky_relu) \n",
    "model10801paraleakyrelu.summary()\n",
    "\n",
    "# ANN Model containing 1 Hidden Layer with 80 Hidden Neurons (GELU, 10 Prior Days)\n",
    "model10801gelu = Sequential() \n",
    "model10801gelu = build_model(init_empty_model=model10801gelu, trainFeatures=X_train, \n",
    "                             n_neurons=80, act_func='gelu') \n",
    "model10801gelu.summary()\n",
    "\n",
    "# ANN Model containing 1 Hidden Layer with 80 Hidden Neurons (ELU, 10 Prior Days)\n",
    "model10801elu = Sequential() \n",
    "model10801elu = build_model(init_empty_model=model10801elu, trainFeatures=X_train, \n",
    "                             n_neurons=80, act_func='elu') \n",
    "model10801elu.summary()\n",
    "\n",
    "# ANN Model containing 1 Hidden Layer with 80 Hidden Neurons (SELU, 10 Prior Days)\n",
    "model10801selu = Sequential() \n",
    "model10801selu = build_model(init_empty_model=model10801selu, trainFeatures=X_train, \n",
    "                             n_neurons=80, act_func='selu') \n",
    "model10801selu.summary()\n",
    "\n",
    "# ANN Model containing 1 Hidden Layer with 80 Hidden Neurons (Softplus, 10 Prior Days)\n",
    "model10801softplus = Sequential() \n",
    "model10801softplus = build_model(init_empty_model=model10801softplus, trainFeatures=X_train, \n",
    "                                 n_neurons=80, act_func='softplus') \n",
    "model10801softplus.summary() "
   ]
  },
  {
   "cell_type": "markdown",
   "id": "logical-stopping",
   "metadata": {},
   "source": [
    "### Compiling and Training the ANN Model containing 1 Hidden Layer with 80 Hidden Neurons for 10 Prior Days (Different Activation Functions)"
   ]
  },
  {
   "cell_type": "code",
   "execution_count": 15,
   "id": "swiss-recording",
   "metadata": {},
   "outputs": [],
   "source": [
    "# ANN Model containing 1 Hidden Layer with 80 Hidden Neurons (LeakyReLU, 10 Prior Days)\n",
    "history10801leakyrelu = compile_and_fit(model=model10801leakyrelu, trainFeatures=X_train, trainLabels=y_train, \n",
    "                                        valFeatures=X_val, valLabels=y_val, batchSize=32, n_epochs=20, verBose=0)\n",
    "\n",
    "# ANN Model containing 1 Hidden Layer with 80 Hidden Neurons (Parametric LeakyReLU, 10 Prior Days)\n",
    "history10801paraleakyrelu = compile_and_fit(model=model10801paraleakyrelu, trainFeatures=X_train, trainLabels=y_train, \n",
    "                                            valFeatures=X_val, valLabels=y_val, batchSize=32, n_epochs=20, verBose=0)\n",
    "\n",
    "# ANN Model containing 1 Hidden Layer with 80 Hidden Neurons (GELU, 10 Prior Days)\n",
    "history10801gelu = compile_and_fit(model=model10801gelu, trainFeatures=X_train, trainLabels=y_train, \n",
    "                                   valFeatures=X_val, valLabels=y_val, batchSize=32, n_epochs=20, verBose=0)\n",
    "\n",
    "# ANN Model containing 1 Hidden Layer with 80 Hidden Neurons (ELU, 10 Prior Days)\n",
    "history10801elu = compile_and_fit(model=model10801elu, trainFeatures=X_train, trainLabels=y_train, \n",
    "                                  valFeatures=X_val, valLabels=y_val, batchSize=32, n_epochs=20, verBose=0)\n",
    "\n",
    "# ANN Model containing 1 Hidden Layer with 80 Hidden Neurons (SELU, 10 Prior Days)\n",
    "history10801selu = compile_and_fit(model=model10801selu, trainFeatures=X_train, trainLabels=y_train, \n",
    "                                   valFeatures=X_val, valLabels=y_val, batchSize=32, n_epochs=20, verBose=0)\n",
    "\n",
    "# ANN Model containing 1 Hidden Layer with 80 Hidden Neurons (Softplus, 10 Prior Days)\n",
    "history10801softplus = compile_and_fit(model=model10801softplus, trainFeatures=X_train, trainLabels=y_train, \n",
    "                                       valFeatures=X_val, valLabels=y_val, batchSize=32, n_epochs=20, verBose=0)"
   ]
  },
  {
   "cell_type": "markdown",
   "id": "appreciated-musical",
   "metadata": {},
   "source": [
    "### Computing MSE for Training and Validation Datasets for ANN Model containing 1 Hidden Layer with 80 Hidden Neurons for 10 Prior Days (Different Activation Functions)"
   ]
  },
  {
   "cell_type": "code",
   "execution_count": 16,
   "id": "compliant-recipient",
   "metadata": {},
   "outputs": [],
   "source": [
    "# ANN Model containing 1 Hidden Layer with 80 Hidden Neurons (LeakyReLU, 10 Prior Days)\n",
    "trainMSE10801leakyrelu = get_mse(model=model10801leakyrelu, realFeatures=X_train, realLabels=y_train) # Calculating MSE for training dataset\n",
    "valMSE10801leakyrelu = get_mse(model=model10801leakyrelu, realFeatures=X_val, realLabels=y_val) # Calculating MSE for validation dataset\n",
    "\n",
    "# ANN Model containing 1 Hidden Layer with 80 Hidden Neurons (Parametric LeakyReLU, 10 Prior Days)\n",
    "trainMSE10801paraleakyrelu = get_mse(model=model10801paraleakyrelu, realFeatures=X_train, realLabels=y_train) # Calculating MSE for training dataset\n",
    "valMSE10801paraleakyrelu = get_mse(model=model10801paraleakyrelu, realFeatures=X_val, realLabels=y_val) # Calculating MSE for validation dataset\n",
    "\n",
    "# ANN Model containing 1 Hidden Layer with 80 Hidden Neurons (GELU, 10 Prior Days)\n",
    "trainMSE10801gelu = get_mse(model=model10801gelu, realFeatures=X_train, realLabels=y_train) # Calculating MSE for training dataset\n",
    "valMSE10801gelu = get_mse(model=model10801gelu, realFeatures=X_val, realLabels=y_val) # Calculating MSE for validation dataset\n",
    "\n",
    "# ANN Model containing 1 Hidden Layer with 80 Hidden Neurons (ELU, 10 Prior Days)\n",
    "trainMSE10801elu = get_mse(model=model10801elu, realFeatures=X_train, realLabels=y_train) # Calculating MSE for training dataset\n",
    "valMSE10801elu = get_mse(model=model10801elu, realFeatures=X_val, realLabels=y_val) # Calculating MSE for validation dataset\n",
    "\n",
    "# ANN Model containing 1 Hidden Layer with 80 Hidden Neurons (SELU, 10 Prior Days)\n",
    "trainMSE10801selu = get_mse(model=model10801selu, realFeatures=X_train, realLabels=y_train) # Calculating MSE for training dataset\n",
    "valMSE10801selu = get_mse(model=model10801selu, realFeatures=X_val, realLabels=y_val) # Calculating MSE for validation dataset\n",
    "\n",
    "# ANN Model containing 1 Hidden Layer with 80 Hidden Neurons (Softplus, 10 Prior Days)\n",
    "trainMSE10801softplus = get_mse(model=model10801softplus, realFeatures=X_train, realLabels=y_train) # Calculating MSE for training dataset\n",
    "valMSE10801softplus = get_mse(model=model10801softplus, realFeatures=X_val, realLabels=y_val) # Calculating MSE for validation dataset"
   ]
  },
  {
   "cell_type": "markdown",
   "id": "breeding-preference",
   "metadata": {},
   "source": [
    "<a id='QuestionB'></a>\n",
    "<div class=\" alert alert-warning\">\n",
    "    <b>Question.</b>\n",
    " \n",
    "What can you find? Report the best model you can obtain that yields highest accuracy (lowest MSE). Plot the training and validation accuracy vs. training iteration (epochs) for the model. \n",
    "\n",
    "</div>"
   ]
  },
  {
   "cell_type": "markdown",
   "id": "strategic-remains",
   "metadata": {},
   "source": [
    "### Bar Plot of Traning and Validation MSE Scores for ANN Models containing 1 Hidden Layer with 80 Neurons (Different Activation Functions, 10 Prior Days)"
   ]
  },
  {
   "cell_type": "code",
   "execution_count": 17,
   "id": "instructional-covering",
   "metadata": {},
   "outputs": [
    {
     "data": {
      "image/png": "[encoded data removed]",
      "text/plain": [
       "<Figure size 720x360 with 1 Axes>"
      ]
     },
     "metadata": {
      "needs_background": "light"
     },
     "output_type": "display_data"
    }
   ],
   "source": [
    "# Bar plot here \n",
    "\n",
    "# Defining the names of rows for pandas DataFrame\n",
    "indices = ['ReLU', 'Leaky ReLU', 'Parametric Leaky ReLU', 'GELU', 'ELU', 'SELU', 'Softplus']\n",
    "\n",
    "# Creating a pandas DataFrame with MSE Scores of all Models\n",
    "trainingMSEs = [round(trainMSE10801relu,2), \n",
    "                round(trainMSE10801leakyrelu,2),  \n",
    "                round(trainMSE10801paraleakyrelu,2),\n",
    "                round(trainMSE10801gelu,2),\n",
    "                round(trainMSE10801elu,2), \n",
    "                round(trainMSE10801selu,2), \n",
    "                round(trainMSE10801softplus,2)]\n",
    "valMSEs = [round(valMSE10801relu,2),\n",
    "           round(valMSE10801leakyrelu,2),\n",
    "           round(valMSE10801paraleakyrelu,2),\n",
    "           round(valMSE10801gelu,2),\n",
    "           round(valMSE10801elu,2),\n",
    "           round(valMSE10801selu,2),\n",
    "           round(valMSE10801softplus,2)]\n",
    "dfMSE = pd.DataFrame({'Training': trainingMSEs, \n",
    "                      'Validation': valMSEs}, \n",
    "                     index = indices) \n",
    "\n",
    "# Plotting the bar-plots\n",
    "fig, ax = plt.subplots(figsize=(10,5), nrows=1, ncols=1)\n",
    "dfMSE.plot(ax = ax, \n",
    "           kind = 'barh', \n",
    "           width = 0.7,\n",
    "           color={\"Training\": \"tab:green\", \n",
    "                  \"Validation\": \"chocolate\"},\n",
    "           rot = 30)\n",
    "ax.set_ylabel('Different Activation Functions', fontsize=15)\n",
    "ax.set_xlabel('Mean Squared Errors', fontsize=15)\n",
    "ax.set_xlim(0.0, 1.25)\n",
    "ax.tick_params(axis='x', labelsize=14)\n",
    "ax.tick_params(axis='y', labelsize=14)\n",
    "ax.set_title(\"Mean Squared Errors of Training and \\n Validation Datasets (1 Hidden layer, 80 Neurons, 10 Prior Days)\", fontsize=16) \n",
    "ax.legend(prop={'size': 14}, ncol=1, labelspacing=0.05, loc='lower right')\n",
    "\n",
    "for i in ax.patches:\n",
    "    # get_width pulls left or right; get_y pushes up or down\n",
    "    ax.text(i.get_width()+.01, i.get_y()+.05, \\\n",
    "            str(round(i.get_width(), 2)), \n",
    "            fontsize=14)\n",
    "\n",
    "plt.show()"
   ]
  },
  {
   "cell_type": "markdown",
   "id": "weighted-hello",
   "metadata": {},
   "source": [
    "<a id='AnswerQB'></a>\n",
    "<div class=\" alert alert-info\">\n",
    "    <b>Answer.</b>\n",
    "\n",
    "$\\textbf{Observation}$: In my case, the model containing $\\texttt{1}$ hidden layer with $\\texttt{80}$ hidden neurons with $\\texttt{softplus}$ as the activation function for $\\texttt{10}$ prior days is the best model because the MSE score for the validation dataset ($\\textsf{0.28}$) is the lowest for this model. \n",
    "    \n",
    "</div>"
   ]
  },
  {
   "cell_type": "markdown",
   "id": "japanese-airport",
   "metadata": {},
   "source": [
    "<a id='QuestionC'></a>\n",
    "<div class=\" alert alert-warning\">\n",
    "    <b>Question.</b>\n",
    " \n",
    "Plot the training and validation accuracy vs. training iteration (epochs) for the model. Also, plot your predicted adjusted closing prices from $10/1/16$ to now and the actual prices with respect to time, and report the MSE.\n",
    "\n",
    "</div>"
   ]
  },
  {
   "cell_type": "markdown",
   "id": "typical-expert",
   "metadata": {},
   "source": [
    "<a id='AnswerQC'></a>\n",
    "<div class=\" alert alert-info\">\n",
    "    <b>Answer.</b>\n",
    "\n",
    "The MSE for the test dataset, evaluated on the model containing $\\texttt{1}$ hidden layer with $\\texttt{80}$ hidden neurons with $\\texttt{softplus}$ as the activation function, is ($\\textsf{66.17}$). \n",
    "    \n",
    "The following two figures show the MSE scores for training and validation datasets with respect to the number of epochs (training iterations) and the real and predicted adjusted closing prices with respect to time for the ANN model with $\\texttt{softplus}$ activation function in the hidden layer.\n",
    "    \n",
    "</div>"
   ]
  },
  {
   "cell_type": "markdown",
   "id": "stuck-myrtle",
   "metadata": {},
   "source": [
    "### Best Model (ANN Model with Lowest Validation Dataset MSE)"
   ]
  },
  {
   "cell_type": "code",
   "execution_count": 18,
   "id": "original-question",
   "metadata": {},
   "outputs": [
    {
     "name": "stdout",
     "output_type": "stream",
     "text": [
      "--- MSE Score for the Best ANN Model containing 1 Hidden Layer with 80 Hidden Neurons (10 Prior Days) ---\n",
      "\n",
      "\n",
      "Test Score: 66.17 MSE\n",
      "\n",
      "\n",
      "----------------------------------------------------------------------------------------------------------\n"
     ]
    },
    {
     "data": {
      "image/png": "[encoded data removed]",
      "text/plain": [
       "<Figure size 504x432 with 1 Axes>"
      ]
     },
     "metadata": {
      "needs_background": "light"
     },
     "output_type": "display_data"
    },
    {
     "data": {
      "image/png": "[encoded data removed]",
      "text/plain": [
       "<Figure size 504x432 with 1 Axes>"
      ]
     },
     "metadata": {
      "needs_background": "light"
     },
     "output_type": "display_data"
    }
   ],
   "source": [
    "# Best ANN model\n",
    "bestANNModel = model10801softplus\n",
    "\n",
    "# Estimating the prediction for test dataset with best ANN model\n",
    "yTestPred10801 = bestANNModel.predict(X_test)\n",
    "\n",
    "# Calculating the MSE of the test dataset\n",
    "testMSE10801 = get_mse(model=bestANNModel, realFeatures=X_test, realLabels=y_test)\n",
    "\n",
    "# Printing the MSE\n",
    "print('--- MSE Score for the Best ANN Model containing 1 Hidden Layer with 80 Hidden Neurons (10 Prior Days) ---')\n",
    "print('\\n')\n",
    "print('Test Score: %.2f MSE' % (testMSE10801))\n",
    "print('\\n')\n",
    "print('----------------------------------------------------------------------------------------------------------')\n",
    "\n",
    "# Plotting training and validation MSE values v/s epochs for the Best ANN Model\n",
    "titleString = \"MSE vs No. of Epochs for the Best ANN Model \\n (1 Hidden Layer, 80 Neurons, Softplus, 10 Prior Days)\"\n",
    "trainMSE = np.asarray(history10801softplus.history['loss']).reshape(-1,1) \n",
    "valMSE = np.asarray(history10801softplus.history['val_loss']).reshape(-1,1)\n",
    "horzLine = np.linspace(1, 20)\n",
    "horzLineData = np.array([0.00 for i in range(len(horzLine))])\n",
    "fig, ax = plt.subplots(figsize=(7,6)) \n",
    "ax.plot(horzLine, horzLineData, 'k--', LineWidth=2)\n",
    "ax.plot(range(1, 21), trainMSE, color='violet', label='Train')   \n",
    "ax.plot(range(1, 21), valMSE, color='darkslategray', label='Validation')   \n",
    "ax.set_title(titleString, fontsize=16)  \n",
    "ax.set_ylabel('Mean Squared Errors', fontsize=15)   \n",
    "ax.set_xlabel('No. of Epochs', fontsize=15)  \n",
    "ax.set_xlim(left=1, right=20)\n",
    "ax.tick_params(axis='x', labelsize=14)\n",
    "ax.tick_params(axis='y', labelsize=14)\n",
    "ax.grid(axis='y', linestyle='-', alpha=0.5)\n",
    "plt.legend(prop={'size': 14}, ncol=1, labelspacing=0.05, loc='upper right')   \n",
    "plt.tight_layout()\n",
    "plt.show()\n",
    "\n",
    "# Plotting the Real and Predicted Adjusted Closing Prices for the Best ANN Model\n",
    "testDates = tempTestDates.iloc[prior_days:]\n",
    "dFrame = pd.DataFrame({'Date': testDates, \n",
    "                       'Real Prices': np.asarray(y_test).astype(np.float64).flatten(), \n",
    "                       'Predicted Prices': yTestPred10801.flatten()})\n",
    "titleString = \"Adj Closing Prices vs Dates for the Best ANN Model \\n (1 Hidden Layer, 80 Neurons, Softplus, 10 Prior Days)\"\n",
    "fig, ax = plt.subplots(figsize=(7,6)) \n",
    "dFrame.plot(ax = ax, \n",
    "            x = \"Date\", \n",
    "            y = [\"Real Prices\", \"Predicted Prices\"],\n",
    "            rot = 30)\n",
    "ax.tick_params(axis='x', labelsize=14)\n",
    "ax.tick_params(axis='y', labelsize=14)\n",
    "ax.set_title(titleString, fontsize=16) \n",
    "ax.set_xlabel('Dates', fontsize=15)\n",
    "ax.set_ylabel('Adj Closing Prices \\n (USD)', fontsize=15)\n",
    "ax.grid(axis='y', linestyle='-', alpha=0.5)\n",
    "ax.legend(prop={'size': 14}, ncol=1, labelspacing=0.05, loc='upper left')\n",
    "plt.show() "
   ]
  }
 ],
 "metadata": {
  "accelerator": "GPU",
  "colab": {
   "collapsed_sections": [],
   "name": "ssahoo_3_UC_002.ipynb",
   "provenance": []
  },
  "kernelspec": {
   "display_name": "Python 3",
   "language": "python",
   "name": "python3"
  },
  "language_info": {
   "codemirror_mode": {
    "name": "ipython",
    "version": 3
   },
   "file_extension": ".py",
   "mimetype": "text/x-python",
   "name": "python",
   "nbconvert_exporter": "python",
   "pygments_lexer": "ipython3",
   "version": "3.8.5"
  }
 },
 "nbformat": 4,
 "nbformat_minor": 5
}
