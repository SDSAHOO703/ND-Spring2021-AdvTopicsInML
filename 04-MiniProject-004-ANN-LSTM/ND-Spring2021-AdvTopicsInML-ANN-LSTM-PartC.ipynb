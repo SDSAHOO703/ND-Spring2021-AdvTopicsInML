{
 "cells": [
  {
   "cell_type": "markdown",
   "id": "departmental-michael",
   "metadata": {
    "id": "departmental-michael"
   },
   "source": [
    "# Mini-Project #4 (Part C)\n",
    "\n",
    "Student Name: **Subhadyuti Sahoo**\n",
    "<br>\n",
    "Course: **Adv Topics in Machine Learning**"
   ]
  },
  {
   "cell_type": "markdown",
   "id": "urban-paste",
   "metadata": {
    "id": "urban-paste"
   },
   "source": [
    "### Importing Necessary Libraries, Modules and Classes"
   ]
  },
  {
   "cell_type": "code",
   "execution_count": 1,
   "id": "brazilian-thomson",
   "metadata": {
    "id": "brazilian-thomson"
   },
   "outputs": [
    {
     "name": "stdout",
     "output_type": "stream",
     "text": [
      "INFO:tensorflow:Enabling eager execution\n",
      "INFO:tensorflow:Enabling v2 tensorshape\n",
      "INFO:tensorflow:Enabling resource variables\n",
      "INFO:tensorflow:Enabling tensor equality\n",
      "INFO:tensorflow:Enabling control flow v2\n"
     ]
    }
   ],
   "source": [
    "import os\n",
    "import time\n",
    "import datetime\n",
    "import sys\n",
    "import numpy as np\n",
    "import scipy\n",
    "import matplotlib.pyplot as plt\n",
    "from matplotlib import rcParams\n",
    "import seaborn as sns\n",
    "import pandas as pd\n",
    "import statistics\n",
    "import sklearn\n",
    "from sklearn.preprocessing import MinMaxScaler\n",
    "from sklearn.metrics import mean_squared_error\n",
    "import tensorflow as tf\n",
    "from tensorflow import keras\n",
    "from tensorflow.keras import Sequential \n",
    "from tensorflow.keras import layers\n",
    "from tensorflow.keras.layers import LeakyReLU, PReLU, Dense, LSTM \n",
    "from tensorflow.keras.layers.experimental import preprocessing\n",
    "from tensorflow.keras import losses\n",
    "import warnings\n",
    "from numpy.random import seed\n",
    "tf.random.set_seed(1234)\n",
    "warnings.simplefilter(\"ignore\")\n",
    "warnings.filterwarnings(\"ignore\")\n",
    "np.set_printoptions(formatter={'float': lambda x: \"{0:0.3f}\".format(x)})"
   ]
  },
  {
   "cell_type": "markdown",
   "id": "emotional-genesis",
   "metadata": {
    "id": "emotional-genesis"
   },
   "source": [
    "### Importing the Dataset"
   ]
  },
  {
   "cell_type": "code",
   "execution_count": 2,
   "id": "novel-mother",
   "metadata": {
    "colab": {
     "base_uri": "https://localhost:8080/",
     "height": 404
    },
    "id": "novel-mother",
    "outputId": "fdf5dca0-c6ab-4d80-fbd9-8003bdc1c250"
   },
   "outputs": [
    {
     "data": {
      "text/html": [
       "<div>\n",
       "<style scoped>\n",
       "    .dataframe tbody tr th:only-of-type {\n",
       "        vertical-align: middle;\n",
       "    }\n",
       "\n",
       "    .dataframe tbody tr th {\n",
       "        vertical-align: top;\n",
       "    }\n",
       "\n",
       "    .dataframe thead th {\n",
       "        text-align: right;\n",
       "    }\n",
       "</style>\n",
       "<table border=\"1\" class=\"dataframe\">\n",
       "  <thead>\n",
       "    <tr style=\"text-align: right;\">\n",
       "      <th></th>\n",
       "      <th>Date</th>\n",
       "      <th>Open</th>\n",
       "      <th>High</th>\n",
       "      <th>Low</th>\n",
       "      <th>Close</th>\n",
       "      <th>Adj Close</th>\n",
       "      <th>Volume</th>\n",
       "    </tr>\n",
       "  </thead>\n",
       "  <tbody>\n",
       "    <tr>\n",
       "      <th>0</th>\n",
       "      <td>1999-01-22</td>\n",
       "      <td>1.750000</td>\n",
       "      <td>1.953125</td>\n",
       "      <td>1.552083</td>\n",
       "      <td>1.640625</td>\n",
       "      <td>1.508412</td>\n",
       "      <td>67867200</td>\n",
       "    </tr>\n",
       "    <tr>\n",
       "      <th>1</th>\n",
       "      <td>1999-01-25</td>\n",
       "      <td>1.770833</td>\n",
       "      <td>1.833333</td>\n",
       "      <td>1.640625</td>\n",
       "      <td>1.812500</td>\n",
       "      <td>1.666436</td>\n",
       "      <td>12762000</td>\n",
       "    </tr>\n",
       "    <tr>\n",
       "      <th>2</th>\n",
       "      <td>1999-01-26</td>\n",
       "      <td>1.833333</td>\n",
       "      <td>1.869792</td>\n",
       "      <td>1.645833</td>\n",
       "      <td>1.671875</td>\n",
       "      <td>1.537143</td>\n",
       "      <td>8580000</td>\n",
       "    </tr>\n",
       "    <tr>\n",
       "      <th>3</th>\n",
       "      <td>1999-01-27</td>\n",
       "      <td>1.677083</td>\n",
       "      <td>1.718750</td>\n",
       "      <td>1.583333</td>\n",
       "      <td>1.666667</td>\n",
       "      <td>1.532354</td>\n",
       "      <td>6109200</td>\n",
       "    </tr>\n",
       "    <tr>\n",
       "      <th>4</th>\n",
       "      <td>1999-01-28</td>\n",
       "      <td>1.666667</td>\n",
       "      <td>1.677083</td>\n",
       "      <td>1.651042</td>\n",
       "      <td>1.661458</td>\n",
       "      <td>1.527566</td>\n",
       "      <td>5688000</td>\n",
       "    </tr>\n",
       "    <tr>\n",
       "      <th>...</th>\n",
       "      <td>...</td>\n",
       "      <td>...</td>\n",
       "      <td>...</td>\n",
       "      <td>...</td>\n",
       "      <td>...</td>\n",
       "      <td>...</td>\n",
       "      <td>...</td>\n",
       "    </tr>\n",
       "    <tr>\n",
       "      <th>5561</th>\n",
       "      <td>2021-03-01</td>\n",
       "      <td>555.000000</td>\n",
       "      <td>557.000000</td>\n",
       "      <td>542.130005</td>\n",
       "      <td>553.669983</td>\n",
       "      <td>553.669983</td>\n",
       "      <td>8802500</td>\n",
       "    </tr>\n",
       "    <tr>\n",
       "      <th>5562</th>\n",
       "      <td>2021-03-02</td>\n",
       "      <td>556.000000</td>\n",
       "      <td>556.820007</td>\n",
       "      <td>535.840027</td>\n",
       "      <td>536.250000</td>\n",
       "      <td>536.250000</td>\n",
       "      <td>6585500</td>\n",
       "    </tr>\n",
       "    <tr>\n",
       "      <th>5563</th>\n",
       "      <td>2021-03-03</td>\n",
       "      <td>537.049988</td>\n",
       "      <td>538.059998</td>\n",
       "      <td>511.950012</td>\n",
       "      <td>512.190002</td>\n",
       "      <td>512.190002</td>\n",
       "      <td>9408000</td>\n",
       "    </tr>\n",
       "    <tr>\n",
       "      <th>5564</th>\n",
       "      <td>2021-03-04</td>\n",
       "      <td>512.030029</td>\n",
       "      <td>519.000000</td>\n",
       "      <td>483.350006</td>\n",
       "      <td>494.809998</td>\n",
       "      <td>494.809998</td>\n",
       "      <td>14292400</td>\n",
       "    </tr>\n",
       "    <tr>\n",
       "      <th>5565</th>\n",
       "      <td>2021-03-05</td>\n",
       "      <td>502.000000</td>\n",
       "      <td>502.000000</td>\n",
       "      <td>467.170013</td>\n",
       "      <td>498.459991</td>\n",
       "      <td>498.459991</td>\n",
       "      <td>13547800</td>\n",
       "    </tr>\n",
       "  </tbody>\n",
       "</table>\n",
       "<p>5566 rows × 7 columns</p>\n",
       "</div>"
      ],
      "text/plain": [
       "            Date        Open        High         Low       Close   Adj Close  \\\n",
       "0     1999-01-22    1.750000    1.953125    1.552083    1.640625    1.508412   \n",
       "1     1999-01-25    1.770833    1.833333    1.640625    1.812500    1.666436   \n",
       "2     1999-01-26    1.833333    1.869792    1.645833    1.671875    1.537143   \n",
       "3     1999-01-27    1.677083    1.718750    1.583333    1.666667    1.532354   \n",
       "4     1999-01-28    1.666667    1.677083    1.651042    1.661458    1.527566   \n",
       "...          ...         ...         ...         ...         ...         ...   \n",
       "5561  2021-03-01  555.000000  557.000000  542.130005  553.669983  553.669983   \n",
       "5562  2021-03-02  556.000000  556.820007  535.840027  536.250000  536.250000   \n",
       "5563  2021-03-03  537.049988  538.059998  511.950012  512.190002  512.190002   \n",
       "5564  2021-03-04  512.030029  519.000000  483.350006  494.809998  494.809998   \n",
       "5565  2021-03-05  502.000000  502.000000  467.170013  498.459991  498.459991   \n",
       "\n",
       "        Volume  \n",
       "0     67867200  \n",
       "1     12762000  \n",
       "2      8580000  \n",
       "3      6109200  \n",
       "4      5688000  \n",
       "...        ...  \n",
       "5561   8802500  \n",
       "5562   6585500  \n",
       "5563   9408000  \n",
       "5564  14292400  \n",
       "5565  13547800  \n",
       "\n",
       "[5566 rows x 7 columns]"
      ]
     },
     "metadata": {},
     "output_type": "display_data"
    }
   ],
   "source": [
    "# Forming the pandas dataframe\n",
    "# entireDataSet = pd.read_csv('/content/drive/My Drive/AdvTopicsInML/NVDA.csv')   # for Google Colab\n",
    "entireDataSet = pd.read_csv('NVDA.csv')   # for Jupyter Notebook\n",
    "\n",
    "# Displaying the pandas dataFrame\n",
    "display(entireDataSet)  "
   ]
  },
  {
   "cell_type": "markdown",
   "id": "ELG5zB7Q2Pz8",
   "metadata": {
    "id": "ELG5zB7Q2Pz8"
   },
   "source": [
    "<a id='Description'></a>\n",
    "<div class=\" alert alert-warning\">\n",
    "    <b>Description.</b>\n",
    " \n",
    "Same as Mini-project #3, this project will use the historic adjusted closing price data of NVDA as the training/test data and build an artificial neural network (ANN) to predict the adjusted closing price in the future. We will only use the adjusted closing price. We will $60:20:20$ split the data for training, validation and test, reserving the most recent $20\\%$ data for test, as though we had traveled back in time to September $30, 2016$. We will try to see if different activation function or LSTM can lead to better prediction with higher\n",
    "accuracy.\n",
    "    \n",
    "</div>"
   ]
  },
  {
   "cell_type": "markdown",
   "id": "eXYzKp6TzleU",
   "metadata": {
    "id": "eXYzKp6TzleU"
   },
   "source": [
    "### Extracting The Working Dataset"
   ]
  },
  {
   "cell_type": "code",
   "execution_count": 3,
   "id": "46MjPZszzjgQ",
   "metadata": {
    "id": "46MjPZszzjgQ"
   },
   "outputs": [],
   "source": [
    "dSet = pd.DataFrame(entireDataSet['Adj Close'], columns=['Adj Close'])   # Working with only the Adjusted Closing Price"
   ]
  },
  {
   "cell_type": "markdown",
   "id": "tutorial-cooperation",
   "metadata": {
    "id": "tutorial-cooperation"
   },
   "source": [
    "### Checking for Missing Values (if any)"
   ]
  },
  {
   "cell_type": "code",
   "execution_count": 4,
   "id": "proprietary-nerve",
   "metadata": {
    "colab": {
     "base_uri": "https://localhost:8080/"
    },
    "id": "proprietary-nerve",
    "outputId": "b805026e-9d59-456c-b46e-5615410515c4"
   },
   "outputs": [
    {
     "name": "stdout",
     "output_type": "stream",
     "text": [
      "--- Checking for Missing Values ---\n",
      "Q. Are there any missing values in the dataset?\n",
      "A. No\n",
      "-----------------------------------\n",
      "\n",
      "\n"
     ]
    }
   ],
   "source": [
    "# Checking if there are missing values in the workign dataset\n",
    "result = (dSet.isna().values.any()) or (dSet.isnull().values.any())\n",
    "if (result == True):\n",
    "    n_missing_values = dSet.isna().sum().sum() + dSet.isnull().sum().sum()\n",
    "\n",
    "# Displaying if there are any missing values in dataFrame\n",
    "print('--- Checking for Missing Values ---')\n",
    "print('Q. Are there any missing values in the dataset?')   \n",
    "if (result == True):\n",
    "    print('A. Yes')\n",
    "    print('Q. How many?')\n",
    "    print('A. ', n_missing_values)\n",
    "else:\n",
    "    print('A. No') \n",
    "print('-----------------------------------')\n",
    "print('\\n')"
   ]
  },
  {
   "cell_type": "markdown",
   "id": "tIdQ559W3qtu",
   "metadata": {
    "id": "tIdQ559W3qtu"
   },
   "source": [
    "### Splitting the Working Dataset"
   ]
  },
  {
   "cell_type": "code",
   "execution_count": 5,
   "id": "vTohyOwUxqe_",
   "metadata": {
    "id": "vTohyOwUxqe_"
   },
   "outputs": [],
   "source": [
    "# Splitting the data after September 30, 2016\n",
    "dates = entireDataSet['Date'].to_numpy()\n",
    "trainval_indices = np.where(dates < '2016-10-01')\n",
    "trainval_index_start = trainval_indices[0][0]\n",
    "trainval_index_end = trainval_indices[0][-1]\n",
    "\n",
    "# Converting the working dataset to a numpy array \n",
    "dSet = dSet.values\n",
    "dSet = dSet.astype('float32')  # Converting to Tensor Form\n",
    "\n",
    "# Preprocessing the dataset\n",
    "scaler = MinMaxScaler(feature_range=(0, 1))  # Forming an instance of MinMaxScaler class  \n",
    "dSet = scaler.fit_transform(dSet)  # Scaling the dataset\n",
    "\n",
    "# Splitting the working dataset into train, val and test datasets\n",
    "n = (0.6 * len(dSet)) / trainval_index_end\n",
    "trainDataSet = dSet[:int(n*trainval_index_end)]\n",
    "valDataSet = dSet[int(n*trainval_index_end):trainval_index_end+1]\n",
    "testDataSet = dSet[trainval_index_end+1:]\n",
    "tempTestDates = entireDataSet['Date'][trainval_index_end+1:]"
   ]
  },
  {
   "cell_type": "markdown",
   "id": "coastal-lesson",
   "metadata": {},
   "source": [
    "### User-Defined Function to Form Training, Validation and Test Datasets Depending Upon Prior Days"
   ]
  },
  {
   "cell_type": "code",
   "execution_count": 6,
   "id": "instructional-guide",
   "metadata": {},
   "outputs": [],
   "source": [
    "def get_refurbished_datasets(dataset, prior_days):\n",
    "    \"\"\"\n",
    "    Returns the reconfigured datasets for 'n' prior days\n",
    "  \n",
    "    Args: \n",
    "      dataset (vector, shape = [n, 1]): the column of interest from the entire, bigger dataset\n",
    "      prior_days (int): the number of prior days for which the column of interest needs to be reconfigured\n",
    "    \"\"\"\n",
    "    \n",
    "    # Forming empty lists to store data\n",
    "    X_, y_ = [], []\n",
    "    \n",
    "    # Forming the reconfigured datasets for 'n' prior days\n",
    "    for i in range(len(dataset)-prior_days):\n",
    "        a = dataset[i:(i + prior_days), 0]\n",
    "        X_.append(a)\n",
    "        y_.append(dataset[i + prior_days, 0])\n",
    "        \n",
    "    # Returning the reconfigured datasets\n",
    "    return np.array(X_), np.array(y_)"
   ]
  },
  {
   "cell_type": "markdown",
   "id": "EgZm_ZVHRUY3",
   "metadata": {
    "id": "EgZm_ZVHRUY3"
   },
   "source": [
    "### Creating A User-Defined Function In Order To Compile and Train Different ANN Models "
   ]
  },
  {
   "cell_type": "code",
   "execution_count": 7,
   "id": "vU6ggNh19VO8",
   "metadata": {
    "id": "vU6ggNh19VO8"
   },
   "outputs": [],
   "source": [
    "def compile_and_fit(model, trainFeatures, trainLabels, valFeatures,\n",
    "                    valLabels, batchSize, n_epochs, verBose):\n",
    "    \"\"\"\n",
    "    Returns a compiled model\n",
    "  \n",
    "    Args:\n",
    "      model (keras sequential model): the filled model\n",
    "      trainFeatures (array, shape = [m,n]): the training dataset features\n",
    "      trainLabels (vector, shape = [m,1]): the training dataset labels\n",
    "      valFeatures (array, shape = [p, n]): the validation dataset features\n",
    "      valLabels (vector, shape = [p,1]): the validation dataset labels\n",
    "      batchSize (int): the max no. of batches to be used for compiling the model\n",
    "      n_epochs (int): the max no. iterations for simulating the model\n",
    "    \"\"\"\n",
    "\n",
    "    # Compiling the model\n",
    "    model.compile(# Objective (Loss) Function\n",
    "                  loss = 'mean_squared_error',  # meanSquaredError\n",
    "\n",
    "                  # Optimizer\n",
    "                  optimizer = 'adam'\n",
    "                 )\n",
    "  \n",
    "    # Training the model\n",
    "    history = model.fit(x = trainFeatures,\n",
    "                        y = trainLabels,\n",
    "                        batch_size = batchSize, \n",
    "                        epochs = n_epochs,\n",
    "                        validation_data = (valFeatures, valLabels),\n",
    "                        verbose = verBose)\n",
    "  \n",
    "    # Returning the compiled model\n",
    "    return history "
   ]
  },
  {
   "cell_type": "markdown",
   "id": "signal-audio",
   "metadata": {},
   "source": [
    "### Forming the Working Datasets for Training, Validation and Test for 10 Prior Days"
   ]
  },
  {
   "cell_type": "code",
   "execution_count": 8,
   "id": "english-bunny",
   "metadata": {},
   "outputs": [
    {
     "name": "stdout",
     "output_type": "stream",
     "text": [
      "--- Shapes of Each Dataset (10 Prior Days) ---\n",
      "Training Features Dataset Shape: (3329, 10)\n",
      "Training Labels Dataset Shape: (3329,)\n",
      "Validation Features Dataset Shape: (1104, 10)\n",
      "Validation Labels Dataset Shape: (1104,)\n",
      "Test Features Dataset Shape: (1103, 10)\n",
      "Test Labels Dataset Shape: (1103,)\n",
      "----------------------------------------------\n"
     ]
    }
   ],
   "source": [
    "# Mentioning the prior days\n",
    "prior_days = 10\n",
    "\n",
    "# Forming the final training dataset\n",
    "X_train, y_train = get_refurbished_datasets(dataset=trainDataSet, prior_days=prior_days)\n",
    "\n",
    "# Forming the final validation dataset\n",
    "X_val, y_val = get_refurbished_datasets(dataset=valDataSet, prior_days=prior_days)\n",
    "\n",
    "# Forming the final test dataset\n",
    "X_test, y_test = get_refurbished_datasets(dataset=testDataSet, prior_days=prior_days)\n",
    "\n",
    "# Printing out the shapes of each dataset\n",
    "print('--- Shapes of Each Dataset (' + str(prior_days) + ' Prior Days) ---')\n",
    "print(f'Training Features Dataset Shape: {X_train.shape}')\n",
    "print(f'Training Labels Dataset Shape: {y_train.shape}')\n",
    "print(f'Validation Features Dataset Shape: {X_val.shape}')\n",
    "print(f'Validation Labels Dataset Shape: {y_val.shape}')\n",
    "print(f'Test Features Dataset Shape: {X_test.shape}')\n",
    "print(f'Test Labels Dataset Shape: {y_test.shape}')\n",
    "print('----------------------------------------------')"
   ]
  },
  {
   "cell_type": "markdown",
   "id": "impossible-labor",
   "metadata": {},
   "source": [
    "<a id='QuestionC'></a>\n",
    "<div class=\" alert alert-warning\">\n",
    "    <b>Question.</b>\n",
    " \n",
    "Does any preprocessing on the input data help with your models in (a) and (b)? Describe the data preprocessing technique you choose to use and its rationale. \n",
    "\n",
    "</div>"
   ]
  },
  {
   "cell_type": "markdown",
   "id": "flush-karen",
   "metadata": {},
   "source": [
    "<a id='AnswerQA'></a>\n",
    "<div class=\" alert alert-info\">\n",
    "    <b>Answer.</b>\n",
    "\n",
    "$\\textbf{Preprocessing Technique}$: All the features were transformed to a range between $\\texttt{0}$ and $\\texttt{1}$ by using $\\textsf{MinMaxScaler}$ from $\\textsf{sklearn.preprocessing}$. This technique was chosen because it standardizes the data. \n",
    "    \n",
    "<br>\n",
    "$\\textbf{Conclusion}$: \n",
    "\n",
    "- Preprocessing the dataset for $\\texttt{Part (a)}$ $\\underline{does}$ $\\underline{not}$ provide better results for the best $\\texttt{ANN}$ model as the MSE scores for both validation and test datasets <font color='red'>increase</font> significantly\n",
    "    \n",
    "- Preprocessing the dataset for $\\texttt{Part (b)}$ $\\underline{does}$ provide better results for the best $\\texttt{LSTM}$ model as the MSE scores for both validation and test datasets <font color='green'>decrease</font> significantly\n",
    "\n",
    "    \n",
    "</div>"
   ]
  },
  {
   "cell_type": "markdown",
   "id": "QD_EFbFFQ_3G",
   "metadata": {
    "id": "QD_EFbFFQ_3G"
   },
   "source": [
    "### The Best ANN Model from Part (A) (1 Hidden Layer with 80 Hidden Neurons, Softplus Activation Function, 10 Prior Days)"
   ]
  },
  {
   "cell_type": "code",
   "execution_count": 9,
   "id": "pqCl7v2n4z1C",
   "metadata": {
    "colab": {
     "base_uri": "https://localhost:8080/",
     "height": 513
    },
    "id": "pqCl7v2n4z1C",
    "outputId": "c4dc41af-8740-4153-811c-dd38979135de"
   },
   "outputs": [
    {
     "name": "stdout",
     "output_type": "stream",
     "text": [
      "Model: \"sequential\"\n",
      "_________________________________________________________________\n",
      "Layer (type)                 Output Shape              Param #   \n",
      "=================================================================\n",
      "dense (Dense)                (None, 80)                880       \n",
      "_________________________________________________________________\n",
      "dense_1 (Dense)              (None, 1)                 81        \n",
      "=================================================================\n",
      "Total params: 961\n",
      "Trainable params: 961\n",
      "Non-trainable params: 0\n",
      "_________________________________________________________________\n",
      "Epoch 1/20\n",
      "105/105 [==============================] - 1s 3ms/step - loss: 0.1780 - val_loss: 0.0019\n",
      "Epoch 2/20\n",
      "105/105 [==============================] - 0s 2ms/step - loss: 3.2493e-04 - val_loss: 0.0013\n",
      "Epoch 3/20\n",
      "105/105 [==============================] - 0s 2ms/step - loss: 1.9789e-04 - val_loss: 6.5967e-04\n",
      "Epoch 4/20\n",
      "105/105 [==============================] - 0s 2ms/step - loss: 1.0517e-04 - val_loss: 3.1481e-04\n",
      "Epoch 5/20\n",
      "105/105 [==============================] - 0s 2ms/step - loss: 4.8616e-05 - val_loss: 1.4111e-04\n",
      "Epoch 6/20\n",
      "105/105 [==============================] - 0s 2ms/step - loss: 2.1749e-05 - val_loss: 5.7883e-05\n",
      "Epoch 7/20\n",
      "105/105 [==============================] - 0s 2ms/step - loss: 9.4702e-06 - val_loss: 2.5911e-05\n",
      "Epoch 8/20\n",
      "105/105 [==============================] - 0s 2ms/step - loss: 4.7482e-06 - val_loss: 1.0274e-05\n",
      "Epoch 9/20\n",
      "105/105 [==============================] - 0s 2ms/step - loss: 2.9537e-06 - val_loss: 7.1113e-06\n",
      "Epoch 10/20\n",
      "105/105 [==============================] - 0s 2ms/step - loss: 2.7150e-06 - val_loss: 5.8267e-06\n",
      "Epoch 11/20\n",
      "105/105 [==============================] - 0s 2ms/step - loss: 2.7160e-06 - val_loss: 4.0931e-06\n",
      "Epoch 12/20\n",
      "105/105 [==============================] - 0s 2ms/step - loss: 2.5185e-06 - val_loss: 3.3381e-06\n",
      "Epoch 13/20\n",
      "105/105 [==============================] - 0s 2ms/step - loss: 2.5107e-06 - val_loss: 4.1593e-06\n",
      "Epoch 14/20\n",
      "105/105 [==============================] - 0s 2ms/step - loss: 2.6035e-06 - val_loss: 3.8240e-06\n",
      "Epoch 15/20\n",
      "105/105 [==============================] - 0s 2ms/step - loss: 2.2820e-06 - val_loss: 4.1611e-06\n",
      "Epoch 16/20\n",
      "105/105 [==============================] - 0s 2ms/step - loss: 2.4893e-06 - val_loss: 3.4388e-06\n",
      "Epoch 17/20\n",
      "105/105 [==============================] - 0s 2ms/step - loss: 2.6546e-06 - val_loss: 3.2183e-06\n",
      "Epoch 18/20\n",
      "105/105 [==============================] - 0s 2ms/step - loss: 2.4789e-06 - val_loss: 3.1443e-06\n",
      "Epoch 19/20\n",
      "105/105 [==============================] - 0s 2ms/step - loss: 2.4970e-06 - val_loss: 4.0581e-06\n",
      "Epoch 20/20\n",
      "105/105 [==============================] - 0s 2ms/step - loss: 2.4951e-06 - val_loss: 3.0321e-06\n"
     ]
    }
   ],
   "source": [
    "# Building and Compiling The Model\n",
    "model10801softplus = Sequential() \n",
    "model10801softplus.add(Dense(units=80, activation='softplus', input_dim=X_train.shape[1]))\n",
    "model10801softplus.add(Dense(units=1))\n",
    "model10801softplus.summary() \n",
    "history10801softplus = compile_and_fit(model=model10801softplus, trainFeatures=X_train, trainLabels=y_train, \n",
    "                                       valFeatures=X_val, valLabels=y_val, batchSize=32, n_epochs=20, verBose=1)"
   ]
  },
  {
   "cell_type": "code",
   "execution_count": 10,
   "id": "deluxe-liechtenstein",
   "metadata": {},
   "outputs": [],
   "source": [
    "# Estimating the predictions for training, validation and test datasets\n",
    "yTrainPredSoftPlus = model10801softplus.predict(X_train)\n",
    "yValPredSoftPlus = model10801softplus.predict(X_val)\n",
    "yTestPredSoftPlus = model10801softplus.predict(X_test)"
   ]
  },
  {
   "cell_type": "code",
   "execution_count": 11,
   "id": "verified-wilderness",
   "metadata": {},
   "outputs": [],
   "source": [
    "# Inverting training, validation and test datasets\n",
    "y_train_softplus = scaler.inverse_transform(y_train.reshape(-1,1))\n",
    "y_val_softplus = scaler.inverse_transform(y_val.reshape(-1,1))\n",
    "y_test_softplus = scaler.inverse_transform(y_test.reshape(-1,1))\n",
    "\n",
    "# Inverting the predictions for training, validation and test datasets\n",
    "yTrainPredSoftPlus = scaler.inverse_transform(yTrainPredSoftPlus)\n",
    "yValPredSoftPlus = scaler.inverse_transform(yValPredSoftPlus)\n",
    "yTestPredSoftPlus = scaler.inverse_transform(yTestPredSoftPlus)"
   ]
  },
  {
   "cell_type": "code",
   "execution_count": 12,
   "id": "trained-worship",
   "metadata": {},
   "outputs": [
    {
     "name": "stdout",
     "output_type": "stream",
     "text": [
      "--- MSE Scores for the Best ANN Model from Part (A) (Preprocessed) ---\n",
      "Train Score: 1.03 MSE\n",
      "Val Score: 1.14 MSE\n",
      "Test Score: 319.40 MSE\n",
      "----------------------------------------------------------------------\n"
     ]
    }
   ],
   "source": [
    "# Computing the MSE scores for training, validation and test datasets\n",
    "trainMSESoftPlus = mean_squared_error(y_train_softplus, yTrainPredSoftPlus)\n",
    "valMSESoftPlus = mean_squared_error(y_val_softplus, yValPredSoftPlus)\n",
    "testMSESoftPlus = mean_squared_error(y_test_softplus, yTestPredSoftPlus)\n",
    "\n",
    "# Print the MSE scores for training and validation datasets\n",
    "print('--- MSE Scores for the Best ANN Model from Part (A) (Preprocessed) ---')\n",
    "print('Train Score: %.2f MSE' % (trainMSESoftPlus))\n",
    "print('Val Score: %.2f MSE' % (valMSESoftPlus))\n",
    "print('Test Score: %.2f MSE' % (testMSESoftPlus))\n",
    "print('----------------------------------------------------------------------')"
   ]
  },
  {
   "cell_type": "code",
   "execution_count": 13,
   "id": "inclusive-branch",
   "metadata": {},
   "outputs": [
    {
     "data": {
      "image/png": "[encoded data removed]",
      "text/plain": [
       "<Figure size 504x432 with 1 Axes>"
      ]
     },
     "metadata": {
      "needs_background": "light"
     },
     "output_type": "display_data"
    }
   ],
   "source": [
    "# Plotting the training and validation MSE scores v/s Epochs\n",
    "titleString = \"MSE vs No. of Epochs for the \\n Best ANN Model from Part (A) (Preprocessed)\"\n",
    "trainMSE = np.asarray(history10801softplus.history['loss']).reshape(-1,1) \n",
    "valMSE = np.asarray(history10801softplus.history['val_loss']).reshape(-1,1)\n",
    "horzLine = np.linspace(1, 20)\n",
    "horzLineData = np.array([0.00 for i in range(len(horzLine))])\n",
    "fig, ax = plt.subplots(figsize=(7,6)) \n",
    "ax.plot(horzLine, horzLineData, 'k--', LineWidth=2)\n",
    "ax.plot(range(1, 21), trainMSE, color='violet', label='Train')   \n",
    "ax.plot(range(1, 21), valMSE, color='darkslategray', label='Validation')   \n",
    "ax.set_title(titleString, fontsize=16)  \n",
    "ax.set_ylabel('Mean Squared Errors', fontsize=15)   \n",
    "ax.set_xlabel('No. of Epochs', fontsize=15)  \n",
    "ax.set_xlim(left=1, right=20)\n",
    "ax.tick_params(axis='x', labelsize=14)\n",
    "ax.tick_params(axis='y', labelsize=14)\n",
    "ax.grid(axis='y', linestyle='-', alpha=0.5)\n",
    "plt.legend(prop={'size': 14}, ncol=1, labelspacing=0.05, loc='upper right')   \n",
    "plt.tight_layout()\n",
    "plt.show()"
   ]
  },
  {
   "cell_type": "code",
   "execution_count": 14,
   "id": "preliminary-airfare",
   "metadata": {},
   "outputs": [
    {
     "data": {
      "image/png": "[encoded data removed]",
      "text/plain": [
       "<Figure size 504x432 with 1 Axes>"
      ]
     },
     "metadata": {
      "needs_background": "light"
     },
     "output_type": "display_data"
    }
   ],
   "source": [
    "# Plotting the Real and Predicted Adjusted Closing Prices for the Best ANN Model\n",
    "testDates = tempTestDates.iloc[prior_days:]\n",
    "dFrame = pd.DataFrame({'Date': testDates, \n",
    "                       'Real Prices': np.asarray(y_test_softplus).astype(np.float64).flatten(), \n",
    "                       'Predicted Prices': yTestPredSoftPlus.flatten()})\n",
    "titleString = \"Adj Closing Prices vs Dates for the \\n Best ANN Model from Part (A) (Preprocessed)\"\n",
    "fig, ax = plt.subplots(figsize=(7,6)) \n",
    "dFrame.plot(ax = ax, \n",
    "            x = \"Date\", \n",
    "            y = [\"Real Prices\", \"Predicted Prices\"],\n",
    "            rot = 30)\n",
    "ax.tick_params(axis='x', labelsize=14)\n",
    "ax.tick_params(axis='y', labelsize=14)\n",
    "ax.set_title(titleString, fontsize=16) \n",
    "ax.set_xlabel('Dates', fontsize=15)\n",
    "ax.set_ylabel('Adj Closing Prices \\n (USD)', fontsize=15)\n",
    "ax.grid(axis='y', linestyle='-', alpha=0.5)\n",
    "ax.legend(prop={'size': 14}, ncol=1, labelspacing=0.05, loc='upper left')\n",
    "plt.show() "
   ]
  },
  {
   "cell_type": "markdown",
   "id": "infinite-match",
   "metadata": {},
   "source": [
    "### The Best ANN Model from Part (B) (LSTM, 10 Prior Days)"
   ]
  },
  {
   "cell_type": "code",
   "execution_count": 15,
   "id": "distributed-scott",
   "metadata": {},
   "outputs": [
    {
     "name": "stdout",
     "output_type": "stream",
     "text": [
      "--- Shapes of Each Dataset [samples, time steps, features] (10 Prior Days, Window Method) ---\n",
      "Training Features Dataset Shape: (3329, 1, 10)\n",
      "Training Labels Dataset Shape: (3329,)\n",
      "Validation Features Dataset Shape: (1104, 1, 10)\n",
      "Validation Labels Dataset Shape: (1104,)\n",
      "Test Features Dataset Shape: (1103, 1, 10)\n",
      "Test Labels Dataset Shape: (1103,)\n",
      "---------------------------------------------------------------------------------------------\n"
     ]
    }
   ],
   "source": [
    "# Reshaping Feature Matrices\n",
    "X_train_10_wm = np.reshape(X_train, (X_train.shape[0], 1, X_train.shape[1]))  # Training dataset\n",
    "X_val_10_wm = np.reshape(X_val, (X_val.shape[0], 1, X_val.shape[1]))  # Training dataset\n",
    "X_test_10_wm = np.reshape(X_test, (X_test.shape[0], 1, X_test.shape[1]))  # Training dataset\n",
    "\n",
    "# Printing out the shapes of each dataset\n",
    "print('--- Shapes of Each Dataset [samples, time steps, features] (' + str(prior_days) + ' Prior Days, Window Method) ---')\n",
    "print(f'Training Features Dataset Shape: {X_train_10_wm.shape}')\n",
    "print(f'Training Labels Dataset Shape: {y_train.shape}')\n",
    "print(f'Validation Features Dataset Shape: {X_val_10_wm.shape}')\n",
    "print(f'Validation Labels Dataset Shape: {y_val.shape}')\n",
    "print(f'Test Features Dataset Shape: {X_test_10_wm.shape}')\n",
    "print(f'Test Labels Dataset Shape: {y_test.shape}')\n",
    "print('---------------------------------------------------------------------------------------------')"
   ]
  },
  {
   "cell_type": "code",
   "execution_count": 16,
   "id": "sound-calgary",
   "metadata": {},
   "outputs": [
    {
     "name": "stdout",
     "output_type": "stream",
     "text": [
      "Model: \"sequential_1\"\n",
      "_________________________________________________________________\n",
      "Layer (type)                 Output Shape              Param #   \n",
      "=================================================================\n",
      "lstm (LSTM)                  (None, 80)                29120     \n",
      "_________________________________________________________________\n",
      "dense_2 (Dense)              (None, 1)                 81        \n",
      "=================================================================\n",
      "Total params: 29,201\n",
      "Trainable params: 29,201\n",
      "Non-trainable params: 0\n",
      "_________________________________________________________________\n",
      "Epoch 1/40\n",
      "105/105 [==============================] - 10s 6ms/step - loss: 5.8110e-05 - val_loss: 2.5560e-06\n",
      "Epoch 2/40\n",
      "105/105 [==============================] - 0s 3ms/step - loss: 2.2190e-06 - val_loss: 3.0638e-06\n",
      "Epoch 3/40\n",
      "105/105 [==============================] - 0s 3ms/step - loss: 2.1884e-06 - val_loss: 3.2504e-06\n",
      "Epoch 4/40\n",
      "105/105 [==============================] - 0s 3ms/step - loss: 2.2286e-06 - val_loss: 3.2407e-06\n",
      "Epoch 5/40\n",
      "105/105 [==============================] - 0s 3ms/step - loss: 1.9752e-06 - val_loss: 2.4251e-06\n",
      "Epoch 6/40\n",
      "105/105 [==============================] - 0s 3ms/step - loss: 1.8772e-06 - val_loss: 1.9342e-06\n",
      "Epoch 7/40\n",
      "105/105 [==============================] - 0s 3ms/step - loss: 1.7264e-06 - val_loss: 1.6365e-06\n",
      "Epoch 8/40\n",
      "105/105 [==============================] - 0s 3ms/step - loss: 1.6634e-06 - val_loss: 1.4866e-06\n",
      "Epoch 9/40\n",
      "105/105 [==============================] - 0s 3ms/step - loss: 1.3270e-06 - val_loss: 2.2273e-06\n",
      "Epoch 10/40\n",
      "105/105 [==============================] - 0s 3ms/step - loss: 1.4595e-06 - val_loss: 6.5694e-06\n",
      "Epoch 11/40\n",
      "105/105 [==============================] - 0s 3ms/step - loss: 1.7252e-06 - val_loss: 1.3245e-06\n",
      "Epoch 12/40\n",
      "105/105 [==============================] - 0s 3ms/step - loss: 1.2633e-06 - val_loss: 1.1127e-06\n",
      "Epoch 13/40\n",
      "105/105 [==============================] - 0s 3ms/step - loss: 1.1203e-06 - val_loss: 1.1787e-06\n",
      "Epoch 14/40\n",
      "105/105 [==============================] - 0s 3ms/step - loss: 1.1234e-06 - val_loss: 5.3741e-06\n",
      "Epoch 15/40\n",
      "105/105 [==============================] - 0s 3ms/step - loss: 1.6538e-06 - val_loss: 1.6851e-06\n",
      "Epoch 16/40\n",
      "105/105 [==============================] - 0s 3ms/step - loss: 1.2638e-06 - val_loss: 1.1629e-06\n",
      "Epoch 17/40\n",
      "105/105 [==============================] - 0s 3ms/step - loss: 1.2879e-06 - val_loss: 1.0325e-06\n",
      "Epoch 18/40\n",
      "105/105 [==============================] - 0s 3ms/step - loss: 1.1252e-06 - val_loss: 7.2440e-06\n",
      "Epoch 19/40\n",
      "105/105 [==============================] - 0s 3ms/step - loss: 2.4894e-06 - val_loss: 9.1060e-07\n",
      "Epoch 20/40\n",
      "105/105 [==============================] - 0s 3ms/step - loss: 1.1113e-06 - val_loss: 4.9741e-06\n",
      "Epoch 21/40\n",
      "105/105 [==============================] - 0s 3ms/step - loss: 1.7935e-06 - val_loss: 8.7451e-07\n",
      "Epoch 22/40\n",
      "105/105 [==============================] - 0s 3ms/step - loss: 1.1289e-06 - val_loss: 2.2904e-06\n",
      "Epoch 23/40\n",
      "105/105 [==============================] - 0s 3ms/step - loss: 1.5225e-06 - val_loss: 9.9111e-07\n",
      "Epoch 24/40\n",
      "105/105 [==============================] - 0s 3ms/step - loss: 9.1553e-07 - val_loss: 8.7688e-07\n",
      "Epoch 25/40\n",
      "105/105 [==============================] - 0s 3ms/step - loss: 1.0735e-06 - val_loss: 1.9507e-06\n",
      "Epoch 26/40\n",
      "105/105 [==============================] - 0s 3ms/step - loss: 9.3621e-07 - val_loss: 2.0622e-06\n",
      "Epoch 27/40\n",
      "105/105 [==============================] - 0s 3ms/step - loss: 1.0451e-06 - val_loss: 1.0288e-06\n",
      "Epoch 28/40\n",
      "105/105 [==============================] - 0s 3ms/step - loss: 9.2744e-07 - val_loss: 1.4109e-06\n",
      "Epoch 29/40\n",
      "105/105 [==============================] - 0s 3ms/step - loss: 9.3631e-07 - val_loss: 3.7182e-06\n",
      "Epoch 30/40\n",
      "105/105 [==============================] - 0s 3ms/step - loss: 1.5723e-06 - val_loss: 3.8028e-06\n",
      "Epoch 31/40\n",
      "105/105 [==============================] - 0s 3ms/step - loss: 1.7700e-06 - val_loss: 1.0546e-06\n",
      "Epoch 32/40\n",
      "105/105 [==============================] - 0s 3ms/step - loss: 9.5843e-07 - val_loss: 3.9064e-06\n",
      "Epoch 33/40\n",
      "105/105 [==============================] - 0s 3ms/step - loss: 1.5408e-06 - val_loss: 1.3763e-06\n",
      "Epoch 34/40\n",
      "105/105 [==============================] - 0s 3ms/step - loss: 1.1626e-06 - val_loss: 1.0630e-06\n",
      "Epoch 35/40\n",
      "105/105 [==============================] - 0s 3ms/step - loss: 1.0990e-06 - val_loss: 8.2019e-07\n",
      "Epoch 36/40\n",
      "105/105 [==============================] - 0s 3ms/step - loss: 9.3581e-07 - val_loss: 7.8516e-07\n",
      "Epoch 37/40\n",
      "105/105 [==============================] - 0s 3ms/step - loss: 9.9810e-07 - val_loss: 2.0392e-06\n",
      "Epoch 38/40\n",
      "105/105 [==============================] - 0s 3ms/step - loss: 1.0692e-06 - val_loss: 8.1011e-07\n",
      "Epoch 39/40\n",
      "105/105 [==============================] - 0s 3ms/step - loss: 8.2608e-07 - val_loss: 1.8684e-06\n",
      "Epoch 40/40\n",
      "105/105 [==============================] - 0s 3ms/step - loss: 1.2248e-06 - val_loss: 8.7705e-07\n"
     ]
    }
   ],
   "source": [
    "# Building and Compiling The Model\n",
    "modelLSTM = Sequential()\n",
    "modelLSTM.add(LSTM(units=80, input_shape=(1, prior_days)))\n",
    "modelLSTM.add(Dense(units=1))\n",
    "modelLSTM.compile(loss='mean_squared_error', optimizer='adam')\n",
    "modelLSTM.summary() \n",
    "historyLSTM = compile_and_fit(model=modelLSTM, trainFeatures=X_train_10_wm, trainLabels=y_train, \n",
    "                              valFeatures=X_val_10_wm, valLabels=y_val, batchSize=32, n_epochs=40, verBose=1)"
   ]
  },
  {
   "cell_type": "code",
   "execution_count": 17,
   "id": "reported-warrior",
   "metadata": {},
   "outputs": [],
   "source": [
    "# Estimating the predictions for training, validation and test datasets\n",
    "yTrainPredLSTM = modelLSTM.predict(X_train_10_wm)\n",
    "yValPredLSTM = modelLSTM.predict(X_val_10_wm)\n",
    "yTestPredLSTM = modelLSTM.predict(X_test_10_wm)"
   ]
  },
  {
   "cell_type": "code",
   "execution_count": 18,
   "id": "promising-breeding",
   "metadata": {},
   "outputs": [],
   "source": [
    "# Inverting training, validation and test datasets\n",
    "y_train_LSTM = scaler.inverse_transform([y_train])\n",
    "y_val_LSTM = scaler.inverse_transform([y_val])\n",
    "y_test_LSTM = scaler.inverse_transform([y_test])\n",
    "\n",
    "# Inverting the predictions for training, validation and test datasets\n",
    "yTrainPredLSTM = scaler.inverse_transform(yTrainPredLSTM)\n",
    "yValPredLSTM = scaler.inverse_transform(yValPredLSTM)\n",
    "yTestPredLSTM = scaler.inverse_transform(yTestPredLSTM)"
   ]
  },
  {
   "cell_type": "code",
   "execution_count": 25,
   "id": "boring-swimming",
   "metadata": {},
   "outputs": [
    {
     "name": "stdout",
     "output_type": "stream",
     "text": [
      "-- MSE Scores for the Best LSTM Model from Part (B) (Preprocessed) --\n",
      "Train Score: 0.31 MSE\n",
      "Val Score: 0.33 MSE\n",
      "Test Score: 88.88 MSE\n",
      "---------------------------------------------------------------------\n"
     ]
    }
   ],
   "source": [
    "# Computing the MSE scores for training, validation and test datasets\n",
    "trainMSELSTM = mean_squared_error(y_train_LSTM[0], yTrainPredLSTM[:,0])\n",
    "valMSELSTM = mean_squared_error(y_val_LSTM[0], yValPredLSTM[:,0])\n",
    "testMSELSTM = mean_squared_error(y_test_LSTM[0], yTestPredLSTM[:,0])\n",
    "\n",
    "# Print the MSE scores for training and validation datasets\n",
    "print('-- MSE Scores for the Best LSTM Model from Part (B) (Preprocessed) --')\n",
    "print('Train Score: %.2f MSE' % (trainMSELSTM))\n",
    "print('Val Score: %.2f MSE' % (valMSELSTM))\n",
    "print('Test Score: %.2f MSE' % (testMSELSTM))\n",
    "print('---------------------------------------------------------------------')"
   ]
  },
  {
   "cell_type": "code",
   "execution_count": 23,
   "id": "expensive-party",
   "metadata": {},
   "outputs": [
    {
     "data": {
      "image/png": "[encoded data removed]",
      "text/plain": [
       "<Figure size 504x432 with 1 Axes>"
      ]
     },
     "metadata": {
      "needs_background": "light"
     },
     "output_type": "display_data"
    }
   ],
   "source": [
    "# Plotting the training and validation MSE scores v/s Epochs\n",
    "n_epochs = 40\n",
    "titleString = \"MSE vs No. of Epochs for the \\n Best LSTM Model from Part (B) (Preprocessed)\"\n",
    "trainMSE = np.asarray(historyLSTM.history['loss']).reshape(-1,1) \n",
    "valMSE = np.asarray(historyLSTM.history['val_loss']).reshape(-1,1)\n",
    "# horzLine = np.linspace(1, 20)\n",
    "# horzLineData = np.array([0.00 for i in range(len(horzLine))])\n",
    "fig, ax = plt.subplots(figsize=(7,6)) \n",
    "# ax.plot(horzLine, horzLineData, 'k--', LineWidth=2)\n",
    "ax.plot(range(1, (n_epochs+1)), trainMSE, color='violet', label='Train')   \n",
    "ax.plot(range(1, (n_epochs+1)), valMSE, color='darkslategray', label='Validation')   \n",
    "ax.set_title(titleString, fontsize=16)  \n",
    "ax.set_ylabel('Mean Squared Errors', fontsize=15)   \n",
    "ax.set_xlabel('No. of Epochs', fontsize=15)  \n",
    "ax.set_xlim(left=1, right=n_epochs)\n",
    "ax.tick_params(axis='x', labelsize=14)\n",
    "ax.tick_params(axis='y', labelsize=14)\n",
    "t = ax.yaxis.get_offset_text()\n",
    "t.set_size(14)\n",
    "ax.grid(axis='y', linestyle='-', alpha=0.5)\n",
    "plt.legend(prop={'size': 14}, ncol=1, labelspacing=0.05, loc='upper right')   \n",
    "plt.tight_layout()\n",
    "plt.show()"
   ]
  },
  {
   "cell_type": "code",
   "execution_count": 24,
   "id": "experienced-spice",
   "metadata": {},
   "outputs": [
    {
     "data": {
      "image/png": "[encoded data removed]",
      "text/plain": [
       "<Figure size 504x432 with 1 Axes>"
      ]
     },
     "metadata": {
      "needs_background": "light"
     },
     "output_type": "display_data"
    }
   ],
   "source": [
    "# Plotting the Real and Predicted Adjusted Closing Prices for the Best ANN Model\n",
    "testDates = tempTestDates.iloc[prior_days:]\n",
    "dFrame = pd.DataFrame({'Date': testDates, \n",
    "                       'Real Prices': np.asarray(y_test_LSTM[0]).astype(np.float64).flatten(), \n",
    "                       'Predicted Prices': yTestPredLSTM[:,0].flatten()})\n",
    "titleString = \"Adj Closing Prices vs Dates for the \\n Best LSTM Model from Part (B) (Preprocessed)\"\n",
    "fig, ax = plt.subplots(figsize=(7,6)) \n",
    "dFrame.plot(ax = ax, \n",
    "            x = \"Date\", \n",
    "            y = [\"Real Prices\", \"Predicted Prices\"],\n",
    "            rot = 30)\n",
    "ax.tick_params(axis='x', labelsize=14)\n",
    "ax.tick_params(axis='y', labelsize=14)\n",
    "ax.set_title(titleString, fontsize=16) \n",
    "ax.set_xlabel('Dates', fontsize=15)\n",
    "ax.set_ylabel('Adj Closing Prices \\n (USD)', fontsize=15)\n",
    "ax.grid(axis='y', linestyle='-', alpha=0.5)\n",
    "ax.legend(prop={'size': 14}, ncol=1, labelspacing=0.05, loc='upper left')\n",
    "plt.show() "
   ]
  }
 ],
 "metadata": {
  "accelerator": "GPU",
  "colab": {
   "collapsed_sections": [],
   "name": "ssahoo_3_UC_002.ipynb",
   "provenance": []
  },
  "kernelspec": {
   "display_name": "Python 3",
   "language": "python",
   "name": "python3"
  },
  "language_info": {
   "codemirror_mode": {
    "name": "ipython",
    "version": 3
   },
   "file_extension": ".py",
   "mimetype": "text/x-python",
   "name": "python",
   "nbconvert_exporter": "python",
   "pygments_lexer": "ipython3",
   "version": "3.8.5"
  }
 },
 "nbformat": 4,
 "nbformat_minor": 5
}
